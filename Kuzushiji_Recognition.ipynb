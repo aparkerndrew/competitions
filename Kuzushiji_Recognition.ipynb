{
  "nbformat": 4,
  "nbformat_minor": 0,
  "metadata": {
    "kernelspec": {
      "name": "python3",
      "display_name": "Python 3"
    },
    "colab": {
      "name": "Kuzushiji Recognition.ipynb",
      "provenance": []
    },
    "accelerator": "GPU"
  },
  "cells": [
    {
      "cell_type": "markdown",
      "metadata": {
        "id": "9Ln9L7Bw4chB",
        "colab_type": "text"
      },
      "source": [
        "Kuzushiji Recognition\n",
        "=======================\n",
        "Opening the door to a thousand years of Japanese culture"
      ]
    },
    {
      "cell_type": "markdown",
      "metadata": {
        "id": "pBysJDUI5VTK",
        "colab_type": "text"
      },
      "source": [
        "Data\n",
        "-------------------"
      ]
    },
    {
      "cell_type": "code",
      "metadata": {
        "id": "pwTxt0lV8wls",
        "colab_type": "code",
        "colab": {
          "base_uri": "https://localhost:8080/",
          "height": 224
        },
        "outputId": "163385b0-bbaf-4f61-f542-91a3bed136c4"
      },
      "source": [
        "!wget --header=\"Host: storage.googleapis.com\" --header=\"User-Agent: Mozilla/5.0 (Windows NT 6.1) AppleWebKit/537.36 (KHTML, like Gecko) Chrome/77.0.3865.90 Safari/537.36\" --header=\"Accept: text/html,application/xhtml+xml,application/xml;q=0.9,image/webp,image/apng,*/*;q=0.8,application/signed-exchange;v=b3\" --header=\"Accept-Language: en-US,en;q=0.9\" --header=\"Referer: https://www.kaggle.com/\" \"https://storage.googleapis.com/kaggle-competitions-data/kaggle/13578/588368/all.zip?GoogleAccessId=web-data@kaggle-161607.iam.gserviceaccount.com&Expires=1569766954&Signature=rPAAmsmLhTRg2vqJ5vl6z%2BzUuqBKl84daXHueV7e%2FLYBoBAnSKMVou1Yk3FI3GzfRBfJIFN3CIiodzpFc0ELpQ8yICr6PwRRKOssbiszuREtdERaDJVADfx9ItBPYLPRCSBS5WoWUgO3vfLUvqKJF%2FuB5s73CeRJ8UJQFV6wcCJ34WbxRr%2F357o3v46J7%2BdRGlD2Ii3gC0yf6U2UuLMXoC8bxzKtMpKYVPeVywm7iRwygtnlu7xvS5mkWhK7FHrtDZxUalO2cGK5fJIwyqMhetiau8WCwixHQt1mF%2BVSI7AhiX0a2BTtlepkDVC7Bs8TnQbAlRi8hDAfh%2BBEyM%2FsNA%3D%3D&response-content-disposition=attachment%3B+filename%3Dkuzushiji-recognition.zip\" -O \"kuzushiji-recognition.zip\" -c"
      ],
      "execution_count": 1,
      "outputs": [
        {
          "output_type": "stream",
          "text": [
            "--2019-09-29 07:19:48--  https://storage.googleapis.com/kaggle-competitions-data/kaggle/13578/588368/all.zip?GoogleAccessId=web-data@kaggle-161607.iam.gserviceaccount.com&Expires=1569766954&Signature=rPAAmsmLhTRg2vqJ5vl6z%2BzUuqBKl84daXHueV7e%2FLYBoBAnSKMVou1Yk3FI3GzfRBfJIFN3CIiodzpFc0ELpQ8yICr6PwRRKOssbiszuREtdERaDJVADfx9ItBPYLPRCSBS5WoWUgO3vfLUvqKJF%2FuB5s73CeRJ8UJQFV6wcCJ34WbxRr%2F357o3v46J7%2BdRGlD2Ii3gC0yf6U2UuLMXoC8bxzKtMpKYVPeVywm7iRwygtnlu7xvS5mkWhK7FHrtDZxUalO2cGK5fJIwyqMhetiau8WCwixHQt1mF%2BVSI7AhiX0a2BTtlepkDVC7Bs8TnQbAlRi8hDAfh%2BBEyM%2FsNA%3D%3D&response-content-disposition=attachment%3B+filename%3Dkuzushiji-recognition.zip\n",
            "Resolving storage.googleapis.com (storage.googleapis.com)... 74.125.195.128, 2607:f8b0:400e:c07::80\n",
            "Connecting to storage.googleapis.com (storage.googleapis.com)|74.125.195.128|:443... connected.\n",
            "HTTP request sent, awaiting response... 200 OK\n",
            "Length: 7113210614 (6.6G) [application/zip]\n",
            "Saving to: ‘kuzushiji-recognition.zip’\n",
            "\n",
            "kuzushiji-recogniti 100%[===================>]   6.62G   139MB/s    in 52s     \n",
            "\n",
            "2019-09-29 07:20:41 (130 MB/s) - ‘kuzushiji-recognition.zip’ saved [7113210614/7113210614]\n",
            "\n"
          ],
          "name": "stdout"
        }
      ]
    },
    {
      "cell_type": "code",
      "metadata": {
        "id": "KW-Bbjps8wed",
        "colab_type": "code",
        "colab": {}
      },
      "source": [
        "!unzip -q kuzushiji-recognition.zip"
      ],
      "execution_count": 0,
      "outputs": []
    },
    {
      "cell_type": "code",
      "metadata": {
        "id": "yNKf49Ll9_Py",
        "colab_type": "code",
        "colab": {}
      },
      "source": [
        "!mkdir train_images\n",
        "!unzip -q train_images.zip -d train_images"
      ],
      "execution_count": 0,
      "outputs": []
    },
    {
      "cell_type": "code",
      "metadata": {
        "id": "bjdhHySoAxA9",
        "colab_type": "code",
        "colab": {}
      },
      "source": [
        "!mkdir test_images\n",
        "!unzip -q test_images.zip -d test_images"
      ],
      "execution_count": 0,
      "outputs": []
    },
    {
      "cell_type": "code",
      "metadata": {
        "id": "ymwpZTAR98vg",
        "colab_type": "code",
        "colab": {
          "base_uri": "https://localhost:8080/",
          "height": 68
        },
        "outputId": "7af2cfc3-c155-46b3-c2f7-a6e56fdd1ba9"
      },
      "source": [
        "!ls"
      ],
      "execution_count": 5,
      "outputs": [
        {
          "output_type": "stream",
          "text": [
            "kuzushiji-recognition.zip  test_images\t    train_images\n",
            "sample_data\t\t   test_images.zip  train_images.zip\n",
            "sample_submission.csv\t   train.csv\t    unicode_translation.csv\n"
          ],
          "name": "stdout"
        }
      ]
    },
    {
      "cell_type": "code",
      "metadata": {
        "id": "LmQ7cbAMQtw5",
        "colab_type": "code",
        "colab": {
          "base_uri": "https://localhost:8080/",
          "height": 136
        },
        "outputId": "93b743c0-db70-4a87-bf0d-05510c9c83f3"
      },
      "source": [
        "import pandas as pd\n",
        "df1 = pd.read_csv('train.csv')\n",
        "print(df1.head(), '\\n', df1.shape)"
      ],
      "execution_count": 1,
      "outputs": [
        {
          "output_type": "stream",
          "text": [
            "            image_id                                             labels\n",
            "0  100241706_00004_2  U+306F 1231 3465 133 53 U+304C 275 1652 84 69 ...\n",
            "1  100241706_00005_1  U+306F 1087 2018 103 65 U+304B 1456 1832 40 73...\n",
            "2  100241706_00005_2  U+306F 572 1376 125 57 U+306E 1551 2080 69 68 ...\n",
            "3  100241706_00006_1  U+3082 1455 3009 65 44 U+516B 1654 1528 141 75...\n",
            "4  100241706_00007_2  U+309D 1201 2949 27 33 U+309D 1196 1539 27 36 ... \n",
            " (3881, 2)\n"
          ],
          "name": "stdout"
        }
      ]
    },
    {
      "cell_type": "code",
      "metadata": {
        "id": "DpL9jZrCjmGi",
        "colab_type": "code",
        "colab": {
          "base_uri": "https://localhost:8080/",
          "height": 204
        },
        "outputId": "55849a4e-439b-4c20-f17c-5257dde5c58c"
      },
      "source": [
        "df1['image_id'] = df1.image_id + '.jpg'\n",
        "df1.head()"
      ],
      "execution_count": 2,
      "outputs": [
        {
          "output_type": "execute_result",
          "data": {
            "text/html": [
              "<div>\n",
              "<style scoped>\n",
              "    .dataframe tbody tr th:only-of-type {\n",
              "        vertical-align: middle;\n",
              "    }\n",
              "\n",
              "    .dataframe tbody tr th {\n",
              "        vertical-align: top;\n",
              "    }\n",
              "\n",
              "    .dataframe thead th {\n",
              "        text-align: right;\n",
              "    }\n",
              "</style>\n",
              "<table border=\"1\" class=\"dataframe\">\n",
              "  <thead>\n",
              "    <tr style=\"text-align: right;\">\n",
              "      <th></th>\n",
              "      <th>image_id</th>\n",
              "      <th>labels</th>\n",
              "    </tr>\n",
              "  </thead>\n",
              "  <tbody>\n",
              "    <tr>\n",
              "      <th>0</th>\n",
              "      <td>100241706_00004_2.jpg</td>\n",
              "      <td>U+306F 1231 3465 133 53 U+304C 275 1652 84 69 ...</td>\n",
              "    </tr>\n",
              "    <tr>\n",
              "      <th>1</th>\n",
              "      <td>100241706_00005_1.jpg</td>\n",
              "      <td>U+306F 1087 2018 103 65 U+304B 1456 1832 40 73...</td>\n",
              "    </tr>\n",
              "    <tr>\n",
              "      <th>2</th>\n",
              "      <td>100241706_00005_2.jpg</td>\n",
              "      <td>U+306F 572 1376 125 57 U+306E 1551 2080 69 68 ...</td>\n",
              "    </tr>\n",
              "    <tr>\n",
              "      <th>3</th>\n",
              "      <td>100241706_00006_1.jpg</td>\n",
              "      <td>U+3082 1455 3009 65 44 U+516B 1654 1528 141 75...</td>\n",
              "    </tr>\n",
              "    <tr>\n",
              "      <th>4</th>\n",
              "      <td>100241706_00007_2.jpg</td>\n",
              "      <td>U+309D 1201 2949 27 33 U+309D 1196 1539 27 36 ...</td>\n",
              "    </tr>\n",
              "  </tbody>\n",
              "</table>\n",
              "</div>"
            ],
            "text/plain": [
              "                image_id                                             labels\n",
              "0  100241706_00004_2.jpg  U+306F 1231 3465 133 53 U+304C 275 1652 84 69 ...\n",
              "1  100241706_00005_1.jpg  U+306F 1087 2018 103 65 U+304B 1456 1832 40 73...\n",
              "2  100241706_00005_2.jpg  U+306F 572 1376 125 57 U+306E 1551 2080 69 68 ...\n",
              "3  100241706_00006_1.jpg  U+3082 1455 3009 65 44 U+516B 1654 1528 141 75...\n",
              "4  100241706_00007_2.jpg  U+309D 1201 2949 27 33 U+309D 1196 1539 27 36 ..."
            ]
          },
          "metadata": {
            "tags": []
          },
          "execution_count": 2
        }
      ]
    },
    {
      "cell_type": "code",
      "metadata": {
        "id": "_M-dPdyZMJqa",
        "colab_type": "code",
        "colab": {
          "base_uri": "https://localhost:8080/",
          "height": 204
        },
        "outputId": "86ca8ac3-bc2a-4900-fdaf-1253aa8e5d5a"
      },
      "source": [
        "\n",
        "df1['label'] = df1['labels'].str.split(' ')\n",
        "df1.head()"
      ],
      "execution_count": 3,
      "outputs": [
        {
          "output_type": "execute_result",
          "data": {
            "text/html": [
              "<div>\n",
              "<style scoped>\n",
              "    .dataframe tbody tr th:only-of-type {\n",
              "        vertical-align: middle;\n",
              "    }\n",
              "\n",
              "    .dataframe tbody tr th {\n",
              "        vertical-align: top;\n",
              "    }\n",
              "\n",
              "    .dataframe thead th {\n",
              "        text-align: right;\n",
              "    }\n",
              "</style>\n",
              "<table border=\"1\" class=\"dataframe\">\n",
              "  <thead>\n",
              "    <tr style=\"text-align: right;\">\n",
              "      <th></th>\n",
              "      <th>image_id</th>\n",
              "      <th>labels</th>\n",
              "      <th>label</th>\n",
              "    </tr>\n",
              "  </thead>\n",
              "  <tbody>\n",
              "    <tr>\n",
              "      <th>0</th>\n",
              "      <td>100241706_00004_2.jpg</td>\n",
              "      <td>U+306F 1231 3465 133 53 U+304C 275 1652 84 69 ...</td>\n",
              "      <td>[U+306F, 1231, 3465, 133, 53, U+304C, 275, 165...</td>\n",
              "    </tr>\n",
              "    <tr>\n",
              "      <th>1</th>\n",
              "      <td>100241706_00005_1.jpg</td>\n",
              "      <td>U+306F 1087 2018 103 65 U+304B 1456 1832 40 73...</td>\n",
              "      <td>[U+306F, 1087, 2018, 103, 65, U+304B, 1456, 18...</td>\n",
              "    </tr>\n",
              "    <tr>\n",
              "      <th>2</th>\n",
              "      <td>100241706_00005_2.jpg</td>\n",
              "      <td>U+306F 572 1376 125 57 U+306E 1551 2080 69 68 ...</td>\n",
              "      <td>[U+306F, 572, 1376, 125, 57, U+306E, 1551, 208...</td>\n",
              "    </tr>\n",
              "    <tr>\n",
              "      <th>3</th>\n",
              "      <td>100241706_00006_1.jpg</td>\n",
              "      <td>U+3082 1455 3009 65 44 U+516B 1654 1528 141 75...</td>\n",
              "      <td>[U+3082, 1455, 3009, 65, 44, U+516B, 1654, 152...</td>\n",
              "    </tr>\n",
              "    <tr>\n",
              "      <th>4</th>\n",
              "      <td>100241706_00007_2.jpg</td>\n",
              "      <td>U+309D 1201 2949 27 33 U+309D 1196 1539 27 36 ...</td>\n",
              "      <td>[U+309D, 1201, 2949, 27, 33, U+309D, 1196, 153...</td>\n",
              "    </tr>\n",
              "  </tbody>\n",
              "</table>\n",
              "</div>"
            ],
            "text/plain": [
              "                image_id  ...                                              label\n",
              "0  100241706_00004_2.jpg  ...  [U+306F, 1231, 3465, 133, 53, U+304C, 275, 165...\n",
              "1  100241706_00005_1.jpg  ...  [U+306F, 1087, 2018, 103, 65, U+304B, 1456, 18...\n",
              "2  100241706_00005_2.jpg  ...  [U+306F, 572, 1376, 125, 57, U+306E, 1551, 208...\n",
              "3  100241706_00006_1.jpg  ...  [U+3082, 1455, 3009, 65, 44, U+516B, 1654, 152...\n",
              "4  100241706_00007_2.jpg  ...  [U+309D, 1201, 2949, 27, 33, U+309D, 1196, 153...\n",
              "\n",
              "[5 rows x 3 columns]"
            ]
          },
          "metadata": {
            "tags": []
          },
          "execution_count": 3
        }
      ]
    },
    {
      "cell_type": "code",
      "metadata": {
        "id": "2uq-qJw5QxHl",
        "colab_type": "code",
        "colab": {
          "base_uri": "https://localhost:8080/",
          "height": 153
        },
        "outputId": "cd92af31-e68f-4bcd-b1ea-d6d2841a1762"
      },
      "source": [
        "df1 = df1.dropna()\n",
        "df1 = df1.reset_index(drop=True)\n",
        "df1.info()"
      ],
      "execution_count": 4,
      "outputs": [
        {
          "output_type": "stream",
          "text": [
            "<class 'pandas.core.frame.DataFrame'>\n",
            "RangeIndex: 3605 entries, 0 to 3604\n",
            "Data columns (total 3 columns):\n",
            "image_id    3605 non-null object\n",
            "labels      3605 non-null object\n",
            "label       3605 non-null object\n",
            "dtypes: object(3)\n",
            "memory usage: 84.6+ KB\n"
          ],
          "name": "stdout"
        }
      ]
    },
    {
      "cell_type": "code",
      "metadata": {
        "id": "z75d0eHpYy3N",
        "colab_type": "code",
        "colab": {}
      },
      "source": [
        "clz = []\n",
        "for idx, val in enumerate(df1.label):\n",
        "  elm = val[::5]\n",
        "  clz.append(elm)"
      ],
      "execution_count": 0,
      "outputs": []
    },
    {
      "cell_type": "code",
      "metadata": {
        "id": "6YHKA2sycoUp",
        "colab_type": "code",
        "colab": {
          "base_uri": "https://localhost:8080/",
          "height": 34
        },
        "outputId": "7e7175d7-a668-4b56-8be0-ac88a04324f1"
      },
      "source": [
        "len(clz)"
      ],
      "execution_count": 6,
      "outputs": [
        {
          "output_type": "execute_result",
          "data": {
            "text/plain": [
              "3605"
            ]
          },
          "metadata": {
            "tags": []
          },
          "execution_count": 6
        }
      ]
    },
    {
      "cell_type": "code",
      "metadata": {
        "id": "xloxTjX--98Y",
        "colab_type": "code",
        "colab": {}
      },
      "source": [
        "def bb_hw_pandas(x):\n",
        "  del x[::5]\n",
        "  z = []\n",
        "  for elm in x:\n",
        "    y = int(elm)\n",
        "    z.append(y)\n",
        "  return z"
      ],
      "execution_count": 0,
      "outputs": []
    },
    {
      "cell_type": "code",
      "metadata": {
        "id": "jTocwXZr-9xi",
        "colab_type": "code",
        "colab": {
          "base_uri": "https://localhost:8080/",
          "height": 204
        },
        "outputId": "c35bdf3f-c562-4667-fe21-9738b75829ed"
      },
      "source": [
        "df1['label1'] = df1['label'].apply(lambda x : bb_hw_pandas(x))\n",
        "df1.head()"
      ],
      "execution_count": 8,
      "outputs": [
        {
          "output_type": "execute_result",
          "data": {
            "text/html": [
              "<div>\n",
              "<style scoped>\n",
              "    .dataframe tbody tr th:only-of-type {\n",
              "        vertical-align: middle;\n",
              "    }\n",
              "\n",
              "    .dataframe tbody tr th {\n",
              "        vertical-align: top;\n",
              "    }\n",
              "\n",
              "    .dataframe thead th {\n",
              "        text-align: right;\n",
              "    }\n",
              "</style>\n",
              "<table border=\"1\" class=\"dataframe\">\n",
              "  <thead>\n",
              "    <tr style=\"text-align: right;\">\n",
              "      <th></th>\n",
              "      <th>image_id</th>\n",
              "      <th>labels</th>\n",
              "      <th>label</th>\n",
              "      <th>label1</th>\n",
              "    </tr>\n",
              "  </thead>\n",
              "  <tbody>\n",
              "    <tr>\n",
              "      <th>0</th>\n",
              "      <td>100241706_00004_2.jpg</td>\n",
              "      <td>U+306F 1231 3465 133 53 U+304C 275 1652 84 69 ...</td>\n",
              "      <td>[1231, 3465, 133, 53, 275, 1652, 84, 69, 1495,...</td>\n",
              "      <td>[1231, 3465, 133, 53, 275, 1652, 84, 69, 1495,...</td>\n",
              "    </tr>\n",
              "    <tr>\n",
              "      <th>1</th>\n",
              "      <td>100241706_00005_1.jpg</td>\n",
              "      <td>U+306F 1087 2018 103 65 U+304B 1456 1832 40 73...</td>\n",
              "      <td>[1087, 2018, 103, 65, 1456, 1832, 40, 73, 2036...</td>\n",
              "      <td>[1087, 2018, 103, 65, 1456, 1832, 40, 73, 2036...</td>\n",
              "    </tr>\n",
              "    <tr>\n",
              "      <th>2</th>\n",
              "      <td>100241706_00005_2.jpg</td>\n",
              "      <td>U+306F 572 1376 125 57 U+306E 1551 2080 69 68 ...</td>\n",
              "      <td>[572, 1376, 125, 57, 1551, 2080, 69, 68, 891, ...</td>\n",
              "      <td>[572, 1376, 125, 57, 1551, 2080, 69, 68, 891, ...</td>\n",
              "    </tr>\n",
              "    <tr>\n",
              "      <th>3</th>\n",
              "      <td>100241706_00006_1.jpg</td>\n",
              "      <td>U+3082 1455 3009 65 44 U+516B 1654 1528 141 75...</td>\n",
              "      <td>[1455, 3009, 65, 44, 1654, 1528, 141, 75, 1714...</td>\n",
              "      <td>[1455, 3009, 65, 44, 1654, 1528, 141, 75, 1714...</td>\n",
              "    </tr>\n",
              "    <tr>\n",
              "      <th>4</th>\n",
              "      <td>100241706_00007_2.jpg</td>\n",
              "      <td>U+309D 1201 2949 27 33 U+309D 1196 1539 27 36 ...</td>\n",
              "      <td>[1201, 2949, 27, 33, 1196, 1539, 27, 36, 729, ...</td>\n",
              "      <td>[1201, 2949, 27, 33, 1196, 1539, 27, 36, 729, ...</td>\n",
              "    </tr>\n",
              "  </tbody>\n",
              "</table>\n",
              "</div>"
            ],
            "text/plain": [
              "                image_id  ...                                             label1\n",
              "0  100241706_00004_2.jpg  ...  [1231, 3465, 133, 53, 275, 1652, 84, 69, 1495,...\n",
              "1  100241706_00005_1.jpg  ...  [1087, 2018, 103, 65, 1456, 1832, 40, 73, 2036...\n",
              "2  100241706_00005_2.jpg  ...  [572, 1376, 125, 57, 1551, 2080, 69, 68, 891, ...\n",
              "3  100241706_00006_1.jpg  ...  [1455, 3009, 65, 44, 1654, 1528, 141, 75, 1714...\n",
              "4  100241706_00007_2.jpg  ...  [1201, 2949, 27, 33, 1196, 1539, 27, 36, 729, ...\n",
              "\n",
              "[5 rows x 4 columns]"
            ]
          },
          "metadata": {
            "tags": []
          },
          "execution_count": 8
        }
      ]
    },
    {
      "cell_type": "code",
      "metadata": {
        "id": "z-uCPQZ-LJNW",
        "colab_type": "code",
        "colab": {}
      },
      "source": [
        "def bb_hw_pandas(x):\n",
        "  y = []\n",
        "  for i in range(0, len(x), 4):\n",
        "    chunk = x[i:i+4]\n",
        "    y.append(chunk)\n",
        "  \n",
        "  return y"
      ],
      "execution_count": 0,
      "outputs": []
    },
    {
      "cell_type": "code",
      "metadata": {
        "id": "zx9hfL1KSb5R",
        "colab_type": "code",
        "colab": {
          "base_uri": "https://localhost:8080/",
          "height": 289
        },
        "outputId": "3d43b6b5-934a-4e5c-fa04-ac4770c056ed"
      },
      "source": [
        "df1['bbox2'] = df1['label1'].apply(lambda x : bb_hw_pandas(x))\n",
        "df1.head()"
      ],
      "execution_count": 10,
      "outputs": [
        {
          "output_type": "execute_result",
          "data": {
            "text/html": [
              "<div>\n",
              "<style scoped>\n",
              "    .dataframe tbody tr th:only-of-type {\n",
              "        vertical-align: middle;\n",
              "    }\n",
              "\n",
              "    .dataframe tbody tr th {\n",
              "        vertical-align: top;\n",
              "    }\n",
              "\n",
              "    .dataframe thead th {\n",
              "        text-align: right;\n",
              "    }\n",
              "</style>\n",
              "<table border=\"1\" class=\"dataframe\">\n",
              "  <thead>\n",
              "    <tr style=\"text-align: right;\">\n",
              "      <th></th>\n",
              "      <th>image_id</th>\n",
              "      <th>labels</th>\n",
              "      <th>label</th>\n",
              "      <th>label1</th>\n",
              "      <th>bbox2</th>\n",
              "    </tr>\n",
              "  </thead>\n",
              "  <tbody>\n",
              "    <tr>\n",
              "      <th>0</th>\n",
              "      <td>100241706_00004_2.jpg</td>\n",
              "      <td>U+306F 1231 3465 133 53 U+304C 275 1652 84 69 ...</td>\n",
              "      <td>[1231, 3465, 133, 53, 275, 1652, 84, 69, 1495,...</td>\n",
              "      <td>[1231, 3465, 133, 53, 275, 1652, 84, 69, 1495,...</td>\n",
              "      <td>[[1231, 3465, 133, 53], [275, 1652, 84, 69], [...</td>\n",
              "    </tr>\n",
              "    <tr>\n",
              "      <th>1</th>\n",
              "      <td>100241706_00005_1.jpg</td>\n",
              "      <td>U+306F 1087 2018 103 65 U+304B 1456 1832 40 73...</td>\n",
              "      <td>[1087, 2018, 103, 65, 1456, 1832, 40, 73, 2036...</td>\n",
              "      <td>[1087, 2018, 103, 65, 1456, 1832, 40, 73, 2036...</td>\n",
              "      <td>[[1087, 2018, 103, 65], [1456, 1832, 40, 73], ...</td>\n",
              "    </tr>\n",
              "    <tr>\n",
              "      <th>2</th>\n",
              "      <td>100241706_00005_2.jpg</td>\n",
              "      <td>U+306F 572 1376 125 57 U+306E 1551 2080 69 68 ...</td>\n",
              "      <td>[572, 1376, 125, 57, 1551, 2080, 69, 68, 891, ...</td>\n",
              "      <td>[572, 1376, 125, 57, 1551, 2080, 69, 68, 891, ...</td>\n",
              "      <td>[[572, 1376, 125, 57], [1551, 2080, 69, 68], [...</td>\n",
              "    </tr>\n",
              "    <tr>\n",
              "      <th>3</th>\n",
              "      <td>100241706_00006_1.jpg</td>\n",
              "      <td>U+3082 1455 3009 65 44 U+516B 1654 1528 141 75...</td>\n",
              "      <td>[1455, 3009, 65, 44, 1654, 1528, 141, 75, 1714...</td>\n",
              "      <td>[1455, 3009, 65, 44, 1654, 1528, 141, 75, 1714...</td>\n",
              "      <td>[[1455, 3009, 65, 44], [1654, 1528, 141, 75], ...</td>\n",
              "    </tr>\n",
              "    <tr>\n",
              "      <th>4</th>\n",
              "      <td>100241706_00007_2.jpg</td>\n",
              "      <td>U+309D 1201 2949 27 33 U+309D 1196 1539 27 36 ...</td>\n",
              "      <td>[1201, 2949, 27, 33, 1196, 1539, 27, 36, 729, ...</td>\n",
              "      <td>[1201, 2949, 27, 33, 1196, 1539, 27, 36, 729, ...</td>\n",
              "      <td>[[1201, 2949, 27, 33], [1196, 1539, 27, 36], [...</td>\n",
              "    </tr>\n",
              "  </tbody>\n",
              "</table>\n",
              "</div>"
            ],
            "text/plain": [
              "                image_id  ...                                              bbox2\n",
              "0  100241706_00004_2.jpg  ...  [[1231, 3465, 133, 53], [275, 1652, 84, 69], [...\n",
              "1  100241706_00005_1.jpg  ...  [[1087, 2018, 103, 65], [1456, 1832, 40, 73], ...\n",
              "2  100241706_00005_2.jpg  ...  [[572, 1376, 125, 57], [1551, 2080, 69, 68], [...\n",
              "3  100241706_00006_1.jpg  ...  [[1455, 3009, 65, 44], [1654, 1528, 141, 75], ...\n",
              "4  100241706_00007_2.jpg  ...  [[1201, 2949, 27, 33], [1196, 1539, 27, 36], [...\n",
              "\n",
              "[5 rows x 5 columns]"
            ]
          },
          "metadata": {
            "tags": []
          },
          "execution_count": 10
        }
      ]
    },
    {
      "cell_type": "code",
      "metadata": {
        "id": "POycTWouAdZ5",
        "colab_type": "code",
        "colab": {
          "base_uri": "https://localhost:8080/",
          "height": 34
        },
        "outputId": "5c996da5-366b-4471-cff0-258cd078714b"
      },
      "source": [
        "df1.bbox2[0][0]"
      ],
      "execution_count": 11,
      "outputs": [
        {
          "output_type": "execute_result",
          "data": {
            "text/plain": [
              "[1231, 3465, 133, 53]"
            ]
          },
          "metadata": {
            "tags": []
          },
          "execution_count": 11
        }
      ]
    },
    {
      "cell_type": "code",
      "metadata": {
        "id": "8BJLeImsnu_V",
        "colab_type": "code",
        "colab": {}
      },
      "source": [
        "df1['classes'] = clz"
      ],
      "execution_count": 0,
      "outputs": []
    },
    {
      "cell_type": "code",
      "metadata": {
        "id": "CQSgikpQon5D",
        "colab_type": "code",
        "colab": {
          "base_uri": "https://localhost:8080/",
          "height": 204
        },
        "outputId": "5cefb83a-eab0-4750-b5b9-1d090f390d8d"
      },
      "source": [
        "columns = ['labels', 'label', 'label1']\n",
        "df1.drop(columns, inplace=True, axis=1)\n",
        "df1.head()"
      ],
      "execution_count": 13,
      "outputs": [
        {
          "output_type": "execute_result",
          "data": {
            "text/html": [
              "<div>\n",
              "<style scoped>\n",
              "    .dataframe tbody tr th:only-of-type {\n",
              "        vertical-align: middle;\n",
              "    }\n",
              "\n",
              "    .dataframe tbody tr th {\n",
              "        vertical-align: top;\n",
              "    }\n",
              "\n",
              "    .dataframe thead th {\n",
              "        text-align: right;\n",
              "    }\n",
              "</style>\n",
              "<table border=\"1\" class=\"dataframe\">\n",
              "  <thead>\n",
              "    <tr style=\"text-align: right;\">\n",
              "      <th></th>\n",
              "      <th>image_id</th>\n",
              "      <th>bbox2</th>\n",
              "      <th>classes</th>\n",
              "    </tr>\n",
              "  </thead>\n",
              "  <tbody>\n",
              "    <tr>\n",
              "      <th>0</th>\n",
              "      <td>100241706_00004_2.jpg</td>\n",
              "      <td>[[1231, 3465, 133, 53], [275, 1652, 84, 69], [...</td>\n",
              "      <td>[U+306F, U+304C, U+3044, U+3051, U+306B, U+306...</td>\n",
              "    </tr>\n",
              "    <tr>\n",
              "      <th>1</th>\n",
              "      <td>100241706_00005_1.jpg</td>\n",
              "      <td>[[1087, 2018, 103, 65], [1456, 1832, 40, 73], ...</td>\n",
              "      <td>[U+306F, U+304B, U+304B, U+3044, U+306B, U+306...</td>\n",
              "    </tr>\n",
              "    <tr>\n",
              "      <th>2</th>\n",
              "      <td>100241706_00005_2.jpg</td>\n",
              "      <td>[[572, 1376, 125, 57], [1551, 2080, 69, 68], [...</td>\n",
              "      <td>[U+306F, U+306E, U+3078, U+304C, U+306B, U+308...</td>\n",
              "    </tr>\n",
              "    <tr>\n",
              "      <th>3</th>\n",
              "      <td>100241706_00006_1.jpg</td>\n",
              "      <td>[[1455, 3009, 65, 44], [1654, 1528, 141, 75], ...</td>\n",
              "      <td>[U+3082, U+516B, U+309E, U+306B, U+308B, U+304...</td>\n",
              "    </tr>\n",
              "    <tr>\n",
              "      <th>4</th>\n",
              "      <td>100241706_00007_2.jpg</td>\n",
              "      <td>[[1201, 2949, 27, 33], [1196, 1539, 27, 36], [...</td>\n",
              "      <td>[U+309D, U+309D, U+309D, U+309D, U+3078, U+309...</td>\n",
              "    </tr>\n",
              "  </tbody>\n",
              "</table>\n",
              "</div>"
            ],
            "text/plain": [
              "                image_id  ...                                            classes\n",
              "0  100241706_00004_2.jpg  ...  [U+306F, U+304C, U+3044, U+3051, U+306B, U+306...\n",
              "1  100241706_00005_1.jpg  ...  [U+306F, U+304B, U+304B, U+3044, U+306B, U+306...\n",
              "2  100241706_00005_2.jpg  ...  [U+306F, U+306E, U+3078, U+304C, U+306B, U+308...\n",
              "3  100241706_00006_1.jpg  ...  [U+3082, U+516B, U+309E, U+306B, U+308B, U+304...\n",
              "4  100241706_00007_2.jpg  ...  [U+309D, U+309D, U+309D, U+309D, U+3078, U+309...\n",
              "\n",
              "[5 rows x 3 columns]"
            ]
          },
          "metadata": {
            "tags": []
          },
          "execution_count": 13
        }
      ]
    },
    {
      "cell_type": "code",
      "metadata": {
        "id": "RjToi-r2o7__",
        "colab_type": "code",
        "colab": {}
      },
      "source": [
        "img2bbox = df1.set_index('image_id').T.to_dict('list')"
      ],
      "execution_count": 0,
      "outputs": []
    },
    {
      "cell_type": "code",
      "metadata": {
        "colab_type": "code",
        "id": "oEYXCbc3cNJ7",
        "colab": {}
      },
      "source": [
        "from fastai.vision import *"
      ],
      "execution_count": 0,
      "outputs": []
    },
    {
      "cell_type": "code",
      "metadata": {
        "id": "_Qr1ndjg29ch",
        "colab_type": "code",
        "colab": {}
      },
      "source": [
        "from pathlib import Path\n",
        "\n",
        "path = Path('/content/train_images')"
      ],
      "execution_count": 0,
      "outputs": []
    },
    {
      "cell_type": "code",
      "metadata": {
        "id": "AgCj6QKr3pRh",
        "colab_type": "code",
        "colab": {}
      },
      "source": [
        "import numpy as np\n",
        "np.random.seed(42)\n",
        "df_percent = df1.sample(frac=0.2)"
      ],
      "execution_count": 0,
      "outputs": []
    },
    {
      "cell_type": "code",
      "metadata": {
        "id": "ulvRwjKbR0wX",
        "colab_type": "code",
        "colab": {
          "base_uri": "https://localhost:8080/",
          "height": 204
        },
        "outputId": "636557e7-78ef-4514-dec9-57f0f26ef0bf"
      },
      "source": [
        "df_percent.head()"
      ],
      "execution_count": 18,
      "outputs": [
        {
          "output_type": "execute_result",
          "data": {
            "text/html": [
              "<div>\n",
              "<style scoped>\n",
              "    .dataframe tbody tr th:only-of-type {\n",
              "        vertical-align: middle;\n",
              "    }\n",
              "\n",
              "    .dataframe tbody tr th {\n",
              "        vertical-align: top;\n",
              "    }\n",
              "\n",
              "    .dataframe thead th {\n",
              "        text-align: right;\n",
              "    }\n",
              "</style>\n",
              "<table border=\"1\" class=\"dataframe\">\n",
              "  <thead>\n",
              "    <tr style=\"text-align: right;\">\n",
              "      <th></th>\n",
              "      <th>image_id</th>\n",
              "      <th>bbox2</th>\n",
              "      <th>classes</th>\n",
              "    </tr>\n",
              "  </thead>\n",
              "  <tbody>\n",
              "    <tr>\n",
              "      <th>3028</th>\n",
              "      <td>hnsd010-015.jpg</td>\n",
              "      <td>[[334, 747, 21, 32], [848, 1949, 61, 36], [476...</td>\n",
              "      <td>[U+30FD, U+306F, U+306F, U+30C4, U+30F3, U+30D...</td>\n",
              "    </tr>\n",
              "    <tr>\n",
              "      <th>1003</th>\n",
              "      <td>200005598_00017_1.jpg</td>\n",
              "      <td>[[1483, 2470, 81, 40], [1146, 926, 33, 42], [1...</td>\n",
              "      <td>[U+3078, U+30EC, U+3064, U+30A2, U+3044, U+30B...</td>\n",
              "    </tr>\n",
              "    <tr>\n",
              "      <th>2104</th>\n",
              "      <td>200021802-00006_1.jpg</td>\n",
              "      <td>[[307, 1342, 83, 39], [695, 1955, 99, 55], [17...</td>\n",
              "      <td>[U+306F, U+3044, U+304B, U+3044, U+3044, U+305...</td>\n",
              "    </tr>\n",
              "    <tr>\n",
              "      <th>3142</th>\n",
              "      <td>umgy001-006.jpg</td>\n",
              "      <td>[[1154, 920, 110, 26], [945, 2546, 52, 55], [6...</td>\n",
              "      <td>[U+4E00, U+306E, U+306B, U+3066, U+305F, U+65E...</td>\n",
              "    </tr>\n",
              "    <tr>\n",
              "      <th>1450</th>\n",
              "      <td>200015779_00106_1.jpg</td>\n",
              "      <td>[[540, 2261, 101, 15], [771, 1245, 103, 20], [...</td>\n",
              "      <td>[U+4E00, U+4E00, U+309D, U+309D, U+30CB, U+30F...</td>\n",
              "    </tr>\n",
              "  </tbody>\n",
              "</table>\n",
              "</div>"
            ],
            "text/plain": [
              "                   image_id  ...                                            classes\n",
              "3028        hnsd010-015.jpg  ...  [U+30FD, U+306F, U+306F, U+30C4, U+30F3, U+30D...\n",
              "1003  200005598_00017_1.jpg  ...  [U+3078, U+30EC, U+3064, U+30A2, U+3044, U+30B...\n",
              "2104  200021802-00006_1.jpg  ...  [U+306F, U+3044, U+304B, U+3044, U+3044, U+305...\n",
              "3142        umgy001-006.jpg  ...  [U+4E00, U+306E, U+306B, U+3066, U+305F, U+65E...\n",
              "1450  200015779_00106_1.jpg  ...  [U+4E00, U+4E00, U+309D, U+309D, U+30CB, U+30F...\n",
              "\n",
              "[5 rows x 3 columns]"
            ]
          },
          "metadata": {
            "tags": []
          },
          "execution_count": 18
        }
      ]
    },
    {
      "cell_type": "code",
      "metadata": {
        "id": "g2Zlnwt53tJz",
        "colab_type": "code",
        "colab": {}
      },
      "source": [
        "val_images = df_percent.image_id.values"
      ],
      "execution_count": 0,
      "outputs": []
    },
    {
      "cell_type": "code",
      "metadata": {
        "id": "Pqnq39V132kT",
        "colab_type": "code",
        "colab": {
          "base_uri": "https://localhost:8080/",
          "height": 51
        },
        "outputId": "0cf3f414-fdb5-464b-9ab2-34f900b3b71d"
      },
      "source": [
        "val_images"
      ],
      "execution_count": 20,
      "outputs": [
        {
          "output_type": "execute_result",
          "data": {
            "text/plain": [
              "array(['hnsd010-015.jpg', '200005598_00017_1.jpg', '200021802-00006_1.jpg', 'umgy001-006.jpg', ...,\n",
              "       '200014685-00016_2.jpg', '100249537_00051_1.jpg', '200003076_00117_2.jpg', 'hnsd012-013.jpg'], dtype=object)"
            ]
          },
          "metadata": {
            "tags": []
          },
          "execution_count": 20
        }
      ]
    },
    {
      "cell_type": "code",
      "metadata": {
        "colab_type": "code",
        "id": "WvBPz41wi1ZW",
        "outputId": "f1cc83b2-3af8-4b9b-b253-31d473097aa8",
        "colab": {
          "base_uri": "https://localhost:8080/",
          "height": 136
        }
      },
      "source": [
        "import pandas as pd\n",
        "df1 = pd.read_csv('train.csv')\n",
        "print(df1.head(), '\\n', df1.shape)"
      ],
      "execution_count": 26,
      "outputs": [
        {
          "output_type": "stream",
          "text": [
            "            image_id                                             labels\n",
            "0  100241706_00004_2  U+306F 1231 3465 133 53 U+304C 275 1652 84 69 ...\n",
            "1  100241706_00005_1  U+306F 1087 2018 103 65 U+304B 1456 1832 40 73...\n",
            "2  100241706_00005_2  U+306F 572 1376 125 57 U+306E 1551 2080 69 68 ...\n",
            "3  100241706_00006_1  U+3082 1455 3009 65 44 U+516B 1654 1528 141 75...\n",
            "4  100241706_00007_2  U+309D 1201 2949 27 33 U+309D 1196 1539 27 36 ... \n",
            " (3881, 2)\n"
          ],
          "name": "stdout"
        }
      ]
    },
    {
      "cell_type": "code",
      "metadata": {
        "colab_type": "code",
        "id": "VXk7w_Pui1Zg",
        "outputId": "b5ba58cc-b20b-4874-9bf1-64cafd5d353a",
        "colab": {
          "base_uri": "https://localhost:8080/",
          "height": 136
        }
      },
      "source": [
        "df1 = df1.dropna()\n",
        "df1 = df1.reset_index(drop=True)\n",
        "df1.info()"
      ],
      "execution_count": 27,
      "outputs": [
        {
          "output_type": "stream",
          "text": [
            "<class 'pandas.core.frame.DataFrame'>\n",
            "RangeIndex: 3605 entries, 0 to 3604\n",
            "Data columns (total 2 columns):\n",
            "image_id    3605 non-null object\n",
            "labels      3605 non-null object\n",
            "dtypes: object(2)\n",
            "memory usage: 56.4+ KB\n"
          ],
          "name": "stdout"
        }
      ]
    },
    {
      "cell_type": "code",
      "metadata": {
        "id": "HHUWic7cd6gm",
        "colab_type": "code",
        "outputId": "858d83d8-9989-4081-f03d-9fcded9ba02e",
        "colab": {
          "base_uri": "https://localhost:8080/",
          "height": 204
        }
      },
      "source": [
        "df1['image_id'] = df1.image_id + '.jpg'\n",
        "a = df1.image_id.values\n",
        "x = '100241706_00005_1.jpg'\n",
        "df1.head()"
      ],
      "execution_count": 28,
      "outputs": [
        {
          "output_type": "execute_result",
          "data": {
            "text/html": [
              "<div>\n",
              "<style scoped>\n",
              "    .dataframe tbody tr th:only-of-type {\n",
              "        vertical-align: middle;\n",
              "    }\n",
              "\n",
              "    .dataframe tbody tr th {\n",
              "        vertical-align: top;\n",
              "    }\n",
              "\n",
              "    .dataframe thead th {\n",
              "        text-align: right;\n",
              "    }\n",
              "</style>\n",
              "<table border=\"1\" class=\"dataframe\">\n",
              "  <thead>\n",
              "    <tr style=\"text-align: right;\">\n",
              "      <th></th>\n",
              "      <th>image_id</th>\n",
              "      <th>labels</th>\n",
              "    </tr>\n",
              "  </thead>\n",
              "  <tbody>\n",
              "    <tr>\n",
              "      <th>0</th>\n",
              "      <td>100241706_00004_2.jpg</td>\n",
              "      <td>U+306F 1231 3465 133 53 U+304C 275 1652 84 69 ...</td>\n",
              "    </tr>\n",
              "    <tr>\n",
              "      <th>1</th>\n",
              "      <td>100241706_00005_1.jpg</td>\n",
              "      <td>U+306F 1087 2018 103 65 U+304B 1456 1832 40 73...</td>\n",
              "    </tr>\n",
              "    <tr>\n",
              "      <th>2</th>\n",
              "      <td>100241706_00005_2.jpg</td>\n",
              "      <td>U+306F 572 1376 125 57 U+306E 1551 2080 69 68 ...</td>\n",
              "    </tr>\n",
              "    <tr>\n",
              "      <th>3</th>\n",
              "      <td>100241706_00006_1.jpg</td>\n",
              "      <td>U+3082 1455 3009 65 44 U+516B 1654 1528 141 75...</td>\n",
              "    </tr>\n",
              "    <tr>\n",
              "      <th>4</th>\n",
              "      <td>100241706_00007_2.jpg</td>\n",
              "      <td>U+309D 1201 2949 27 33 U+309D 1196 1539 27 36 ...</td>\n",
              "    </tr>\n",
              "  </tbody>\n",
              "</table>\n",
              "</div>"
            ],
            "text/plain": [
              "                image_id                                             labels\n",
              "0  100241706_00004_2.jpg  U+306F 1231 3465 133 53 U+304C 275 1652 84 69 ...\n",
              "1  100241706_00005_1.jpg  U+306F 1087 2018 103 65 U+304B 1456 1832 40 73...\n",
              "2  100241706_00005_2.jpg  U+306F 572 1376 125 57 U+306E 1551 2080 69 68 ...\n",
              "3  100241706_00006_1.jpg  U+3082 1455 3009 65 44 U+516B 1654 1528 141 75...\n",
              "4  100241706_00007_2.jpg  U+309D 1201 2949 27 33 U+309D 1196 1539 27 36 ..."
            ]
          },
          "metadata": {
            "tags": []
          },
          "execution_count": 28
        }
      ]
    },
    {
      "cell_type": "code",
      "metadata": {
        "colab_type": "code",
        "id": "swW4p2CIhZAc",
        "outputId": "7acd6353-2e2b-4806-c2c1-ee85273fee01",
        "colab": {
          "base_uri": "https://localhost:8080/",
          "height": 34
        }
      },
      "source": [
        "df1.shape"
      ],
      "execution_count": 29,
      "outputs": [
        {
          "output_type": "execute_result",
          "data": {
            "text/plain": [
              "(3605, 2)"
            ]
          },
          "metadata": {
            "tags": []
          },
          "execution_count": 29
        }
      ]
    },
    {
      "cell_type": "code",
      "metadata": {
        "colab_type": "code",
        "id": "S2scnMxthZAt",
        "colab": {}
      },
      "source": [
        "import os\n",
        "a = (df1.image_id.values)\n",
        "b = []\n",
        "c = []\n",
        "for i, nm in enumerate(os.listdir('train_images')):\n",
        "  if nm in a:\n",
        "    b.append(nm)\n",
        "  else:\n",
        "    c.append(nm)"
      ],
      "execution_count": 0,
      "outputs": []
    },
    {
      "cell_type": "code",
      "metadata": {
        "id": "NZvFnvphheqc",
        "colab_type": "code",
        "outputId": "05422a20-c0e0-4668-adcd-bfe41f390a2a",
        "colab": {
          "base_uri": "https://localhost:8080/",
          "height": 34
        }
      },
      "source": [
        "len(b)"
      ],
      "execution_count": 31,
      "outputs": [
        {
          "output_type": "execute_result",
          "data": {
            "text/plain": [
              "3605"
            ]
          },
          "metadata": {
            "tags": []
          },
          "execution_count": 31
        }
      ]
    },
    {
      "cell_type": "code",
      "metadata": {
        "id": "ckOLcU3qhhBe",
        "colab_type": "code",
        "outputId": "b1f195ca-6fb4-408e-a7d5-fd102f1afb33",
        "colab": {
          "base_uri": "https://localhost:8080/",
          "height": 34
        }
      },
      "source": [
        "len(c)"
      ],
      "execution_count": 32,
      "outputs": [
        {
          "output_type": "execute_result",
          "data": {
            "text/plain": [
              "276"
            ]
          },
          "metadata": {
            "tags": []
          },
          "execution_count": 32
        }
      ]
    },
    {
      "cell_type": "code",
      "metadata": {
        "id": "6HJxf3q4ePmn",
        "colab_type": "code",
        "colab": {}
      },
      "source": [
        "for d, e in enumerate(os.listdir('train_images')):\n",
        "  if e in c:\n",
        "    os.remove('train_images/' + e)"
      ],
      "execution_count": 0,
      "outputs": []
    },
    {
      "cell_type": "code",
      "metadata": {
        "id": "D1dSOBFvhm4y",
        "colab_type": "code",
        "outputId": "e845ae19-e85d-4fda-944f-429c58528247",
        "colab": {
          "base_uri": "https://localhost:8080/",
          "height": 34
        }
      },
      "source": [
        "len(os.listdir('train_images'))"
      ],
      "execution_count": 21,
      "outputs": [
        {
          "output_type": "execute_result",
          "data": {
            "text/plain": [
              "3606"
            ]
          },
          "metadata": {
            "tags": []
          },
          "execution_count": 21
        }
      ]
    },
    {
      "cell_type": "code",
      "metadata": {
        "id": "FVIKFsrt3Cym",
        "colab_type": "code",
        "colab": {}
      },
      "source": [
        "get_y_func = lambda o:img2bbox[o.name]"
      ],
      "execution_count": 0,
      "outputs": []
    },
    {
      "cell_type": "code",
      "metadata": {
        "colab_type": "code",
        "id": "8x6Z1V73cVNr",
        "colab": {}
      },
      "source": [
        "def get_data(bs, size):\n",
        "    src = ObjectItemList.from_folder(path)\n",
        "    src = src.split_by_files(val_images)\n",
        "    src = src.label_from_func(get_y_func)\n",
        "    src = src.transform(get_transforms(), size=size, tfm_y=True)\n",
        "    return src.databunch(path=path, bs=bs, collate_fn=bb_pad_collate)"
      ],
      "execution_count": 0,
      "outputs": []
    },
    {
      "cell_type": "code",
      "metadata": {
        "colab_type": "code",
        "id": "bd2hmieFcVNz",
        "colab": {}
      },
      "source": [
        "data = get_data(64,128)"
      ],
      "execution_count": 0,
      "outputs": []
    },
    {
      "cell_type": "code",
      "metadata": {
        "id": "si2aYbalpNwe",
        "colab_type": "code",
        "colab": {
          "base_uri": "https://localhost:8080/",
          "height": 816
        },
        "outputId": "2508393c-f82e-47c5-bdaa-eb4849acb02e"
      },
      "source": [
        "data.show_batch(rows=3)"
      ],
      "execution_count": 25,
      "outputs": [
        {
          "output_type": "display_data",
          "data": {
            "image/png": "[encoded data removed]",
            "text/plain": [
              "<Figure size 864x864 with 9 Axes>"
            ]
          },
          "metadata": {
            "tags": []
          }
        }
      ]
    },
    {
      "cell_type": "markdown",
      "metadata": {
        "id": "TXQVjiYAqyv5",
        "colab_type": "text"
      },
      "source": [
        "## Model"
      ]
    },
    {
      "cell_type": "markdown",
      "metadata": {
        "id": "pplzPipCqyv6",
        "colab_type": "text"
      },
      "source": [
        "The architecture we will use is a [RetinaNet](https://arxiv.org/abs/1708.02002), which is based on a [Feature Pyramid Network](https://arxiv.org/abs/1612.03144). \n",
        "\n",
        "![Retina net](https://github.com/fastai/course-v3/blob/master/nbs/dl2/images/retinanet.png?raw=1)\n",
        "\n",
        "This is a bit like a Unet in the sense we have a branch where the image is progressively reduced then another one where we upsample it again, and there are lateral connections, but we will use the feature maps produced at each level for our final predictions. Specifically, if we start with an image of size (256,256), the traditional resnet has intermediate features maps of sizes:\n",
        "- C1 (128, 128)  \n",
        "- C2 (64, 64)\n",
        "- C3 (32, 32)\n",
        "- C4 (16, 16)\n",
        "- C5 (8, 8)\n",
        "To which the authors add two other features maps C6 and C7 of sizes (4,4) and (2,2) by using stride-2 convolutions. (Note that the model requires an image size of 128 at the minimum because of this.)\n",
        "\n",
        "Then we have P7 = C7 and we go down from P7 to P2 by upsampling the result of the previous P-layer and adding a lateral connection. The idea is that the last feature map P7 will be responsible to detect big objects, while one like P3 will be responsible to detect smaller objects. \n",
        "\n",
        "Each P-something feature map then goes through two subnet of four convolutional layers (with the same weights for all the feature maps), one that will be responsible for finding the category of the object and the other for drawing the bounding box. Each location in the feature map is assigned a given number of anchors (see below) so the classifier ends up with `n_anchors * n_classes` channels and the bounding box regressor with `n_anchors * 4` channels."
      ]
    },
    {
      "cell_type": "code",
      "metadata": {
        "id": "iP3VfrPdqyv7",
        "colab_type": "code",
        "colab": {}
      },
      "source": [
        "#Grab the convenience functions that helps us buil the Unet\n",
        "from fastai.vision.models.unet import _get_sfs_idxs, model_sizes, hook_outputs"
      ],
      "execution_count": 0,
      "outputs": []
    },
    {
      "cell_type": "code",
      "metadata": {
        "id": "zcn-fS2HqywC",
        "colab_type": "code",
        "colab": {}
      },
      "source": [
        "class LateralUpsampleMerge(nn.Module):\n",
        "    \"Merge the features coming from the downsample path (in `hook`) with the upsample path.\"\n",
        "    def __init__(self, ch, ch_lat, hook):\n",
        "        super().__init__()\n",
        "        self.hook = hook\n",
        "        self.conv_lat = conv2d(ch_lat, ch, ks=1, bias=True)\n",
        "    \n",
        "    def forward(self, x):\n",
        "        return self.conv_lat(self.hook.stored) + F.interpolate(x, self.hook.stored.shape[-2:], mode='nearest')"
      ],
      "execution_count": 0,
      "outputs": []
    },
    {
      "cell_type": "code",
      "metadata": {
        "id": "m7xwThIuqywH",
        "colab_type": "code",
        "colab": {}
      },
      "source": [
        "class RetinaNet(nn.Module):\n",
        "    \"Implements RetinaNet from https://arxiv.org/abs/1708.02002\"\n",
        "    def __init__(self, encoder:nn.Module, n_classes, final_bias=0., chs=256, n_anchors=9, flatten=True):\n",
        "        super().__init__()\n",
        "        self.n_classes,self.flatten = n_classes,flatten\n",
        "        imsize = (256,256)\n",
        "        sfs_szs = model_sizes(encoder, size=imsize)\n",
        "        sfs_idxs = list(reversed(_get_sfs_idxs(sfs_szs)))\n",
        "        self.sfs = hook_outputs([encoder[i] for i in sfs_idxs])\n",
        "        self.encoder = encoder\n",
        "        self.c5top5 = conv2d(sfs_szs[-1][1], chs, ks=1, bias=True)\n",
        "        self.c5top6 = conv2d(sfs_szs[-1][1], chs, stride=2, bias=True)\n",
        "        self.p6top7 = nn.Sequential(nn.ReLU(), conv2d(chs, chs, stride=2, bias=True))\n",
        "        self.merges = nn.ModuleList([LateralUpsampleMerge(chs, sfs_szs[idx][1], hook) \n",
        "                                     for idx,hook in zip(sfs_idxs[-2:-4:-1], self.sfs[-2:-4:-1])])\n",
        "        self.smoothers = nn.ModuleList([conv2d(chs, chs, 3, bias=True) for _ in range(3)])\n",
        "        self.classifier = self._head_subnet(n_classes, n_anchors, final_bias, chs=chs)\n",
        "        self.box_regressor = self._head_subnet(4, n_anchors, 0., chs=chs)\n",
        "        \n",
        "    def _head_subnet(self, n_classes, n_anchors, final_bias=0., n_conv=4, chs=256):\n",
        "        \"Helper function to create one of the subnet for regression/classification.\"\n",
        "        layers = [conv_layer(chs, chs, bias=True, norm_type=None) for _ in range(n_conv)]\n",
        "        layers += [conv2d(chs, n_classes * n_anchors, bias=True)]\n",
        "        layers[-1].bias.data.zero_().add_(final_bias)\n",
        "        layers[-1].weight.data.fill_(0)\n",
        "        return nn.Sequential(*layers)\n",
        "    \n",
        "    def _apply_transpose(self, func, p_states, n_classes):\n",
        "        #Final result of the classifier/regressor is bs * (k * n_anchors) * h * w\n",
        "        #We make it bs * h * w * n_anchors * k then flatten in bs * -1 * k so we can contenate\n",
        "        #all the results in bs * anchors * k (the non flatten version is there for debugging only)\n",
        "        if not self.flatten: \n",
        "            sizes = [[p.size(0), p.size(2), p.size(3)] for p in p_states]\n",
        "            return [func(p).permute(0,2,3,1).view(*sz,-1,n_classes) for p,sz in zip(p_states,sizes)]\n",
        "        else:\n",
        "            return torch.cat([func(p).permute(0,2,3,1).contiguous().view(p.size(0),-1,n_classes) for p in p_states],1)\n",
        "    \n",
        "    def forward(self, x):\n",
        "        c5 = self.encoder(x)\n",
        "        p_states = [self.c5top5(c5.clone()), self.c5top6(c5)]\n",
        "        p_states.append(self.p6top7(p_states[-1]))\n",
        "        for merge in self.merges: p_states = [merge(p_states[0])] + p_states\n",
        "        for i, smooth in enumerate(self.smoothers[:3]):\n",
        "            p_states[i] = smooth(p_states[i])\n",
        "        return [self._apply_transpose(self.classifier, p_states, self.n_classes), \n",
        "                self._apply_transpose(self.box_regressor, p_states, 4),\n",
        "                [[p.size(2), p.size(3)] for p in p_states]]\n",
        "    \n",
        "    def __del__(self):\n",
        "        if hasattr(self, \"sfs\"): self.sfs.remove()"
      ],
      "execution_count": 0,
      "outputs": []
    },
    {
      "cell_type": "markdown",
      "metadata": {
        "id": "nuHcblNNqywL",
        "colab_type": "text"
      },
      "source": [
        "The model is a bit complex, but that's not the hardest part. It will spit out an absurdly high number of predictions: for the features P3 to P7 with an image size of 256, we have `32*32 + 16*16 + 8*8 + 4*4 +2*2` locations possible in one of the five feature maps, which gives 1,364 possible detections, multiplied by the number of anchors we choose to attribute to each location (9 below), which makes 12,276 possible hits.\n",
        "\n",
        "A lot of those aren't going to correspond to any object in the picture, and we need to somehow match all those predictions to either nothing or a given bounding box in the picture."
      ]
    },
    {
      "cell_type": "markdown",
      "metadata": {
        "id": "O93ZzqTmqywL",
        "colab_type": "text"
      },
      "source": [
        "## \"Encore\" boxes"
      ]
    },
    {
      "cell_type": "markdown",
      "metadata": {
        "id": "lA85gaMbqywM",
        "colab_type": "text"
      },
      "source": [
        "If we look at the feature map of size `4*4`, we have 16 locations numbered like below: "
      ]
    },
    {
      "cell_type": "code",
      "metadata": {
        "id": "FbSEb7m3qywM",
        "colab_type": "code",
        "colab": {
          "base_uri": "https://localhost:8080/",
          "height": 85
        },
        "outputId": "89630970-e6a5-44d0-e5cf-047d43cd6b5d"
      },
      "source": [
        "torch.arange(0,16).long().view(4,4)"
      ],
      "execution_count": 29,
      "outputs": [
        {
          "output_type": "execute_result",
          "data": {
            "text/plain": [
              "tensor([[ 0,  1,  2,  3],\n",
              "        [ 4,  5,  6,  7],\n",
              "        [ 8,  9, 10, 11],\n",
              "        [12, 13, 14, 15]])"
            ]
          },
          "metadata": {
            "tags": []
          },
          "execution_count": 29
        }
      ]
    },
    {
      "cell_type": "markdown",
      "metadata": {
        "id": "lLarGoE4qywO",
        "colab_type": "text"
      },
      "source": [
        "The most basic way to map one of these features with an actual area inside the image is to create the regular 4 by 4 grid. Our convention is that `y` is first (like in numpy or PyTorch), and that all coordinates are scaled from -1 to 1 (-1 being top/right, 1 being bottom/left). "
      ]
    },
    {
      "cell_type": "code",
      "metadata": {
        "id": "9f9QgOKEqywP",
        "colab_type": "code",
        "colab": {}
      },
      "source": [
        "def create_grid(size):\n",
        "    \"Create a grid of a given `size`.\"\n",
        "    H, W = size if is_tuple(size) else (size,size)\n",
        "    grid = FloatTensor(H, W, 2)\n",
        "    linear_points = torch.linspace(-1+1/W, 1-1/W, W) if W > 1 else tensor([0.])\n",
        "    grid[:, :, 1] = torch.ger(torch.ones(H), linear_points).expand_as(grid[:, :, 0])\n",
        "    linear_points = torch.linspace(-1+1/H, 1-1/H, H) if H > 1 else tensor([0.])\n",
        "    grid[:, :, 0] = torch.ger(linear_points, torch.ones(W)).expand_as(grid[:, :, 1])\n",
        "    return grid.view(-1,2)"
      ],
      "execution_count": 0,
      "outputs": []
    },
    {
      "cell_type": "markdown",
      "metadata": {
        "id": "oe3JL4cyqywR",
        "colab_type": "text"
      },
      "source": [
        "Let's use a helper function to draw those anchors:"
      ]
    },
    {
      "cell_type": "code",
      "metadata": {
        "id": "f17wvMtqqywR",
        "colab_type": "code",
        "colab": {}
      },
      "source": [
        "def show_anchors(ancs, size):\n",
        "    _,ax = plt.subplots(1,1, figsize=(5,5))\n",
        "    ax.set_xticks(np.linspace(-1,1, size[1]+1))\n",
        "    ax.set_yticks(np.linspace(-1,1, size[0]+1))\n",
        "    ax.grid()\n",
        "    ax.scatter(ancs[:,1], ancs[:,0]) #y is first\n",
        "    ax.set_yticklabels([])\n",
        "    ax.set_xticklabels([])\n",
        "    ax.set_xlim(-1,1)\n",
        "    ax.set_ylim(1,-1) #-1 is top, 1 is bottom\n",
        "    for i, (x, y) in enumerate(zip(ancs[:, 1], ancs[:, 0])): ax.annotate(i, xy = (x,y))"
      ],
      "execution_count": 0,
      "outputs": []
    },
    {
      "cell_type": "code",
      "metadata": {
        "id": "03tJkrSTqywT",
        "colab_type": "code",
        "colab": {
          "base_uri": "https://localhost:8080/",
          "height": 310
        },
        "outputId": "d44e62fd-0417-4f9b-939f-71cfb7010c16"
      },
      "source": [
        "size = (4,4)\n",
        "show_anchors(create_grid(size), size)"
      ],
      "execution_count": 32,
      "outputs": [
        {
          "output_type": "display_data",
          "data": {
            "image/png": "[encoded data removed]",
            "text/plain": [
              "<Figure size 360x360 with 1 Axes>"
            ]
          },
          "metadata": {
            "tags": []
          }
        }
      ]
    },
    {
      "cell_type": "markdown",
      "metadata": {
        "id": "qxw6kfxnqywV",
        "colab_type": "text"
      },
      "source": [
        "In practice, we use different ratios and scales of that basic grid to build our anchors, because bounding boxes aren't always a perfect square inside a grid. "
      ]
    },
    {
      "cell_type": "code",
      "metadata": {
        "id": "JvvGL4p5qywW",
        "colab_type": "code",
        "colab": {}
      },
      "source": [
        "def create_anchors(sizes, ratios, scales, flatten=True):\n",
        "    \"Create anchor of `sizes`, `ratios` and `scales`.\"\n",
        "    aspects = [[[s*math.sqrt(r), s*math.sqrt(1/r)] for s in scales] for r in ratios]\n",
        "    aspects = torch.tensor(aspects).view(-1,2)\n",
        "    anchors = []\n",
        "    for h,w in sizes:\n",
        "        #4 here to have the anchors overlap.\n",
        "        sized_aspects = 4 * (aspects * torch.tensor([2/h,2/w])).unsqueeze(0)\n",
        "        base_grid = create_grid((h,w)).unsqueeze(1)\n",
        "        n,a = base_grid.size(0),aspects.size(0)\n",
        "        ancs = torch.cat([base_grid.expand(n,a,2), sized_aspects.expand(n,a,2)], 2)\n",
        "        anchors.append(ancs.view(h,w,a,4))\n",
        "    return torch.cat([anc.view(-1,4) for anc in anchors],0) if flatten else anchors"
      ],
      "execution_count": 0,
      "outputs": []
    },
    {
      "cell_type": "code",
      "metadata": {
        "id": "CnNGcTUnqywY",
        "colab_type": "code",
        "colab": {}
      },
      "source": [
        "ratios = [1/2,1,2]\n",
        "scales = [1,2**(-1/3), 2**(-2/3)] \n",
        "#Paper used [1,2**(1/3), 2**(2/3)] but a bigger size (600) too, so the largest feature map gave anchors that cover less of the image.\n",
        "sizes = [(2**i,2**i) for i in range(5)]\n",
        "sizes.reverse() #Predictions come in the order of the smallest feature map to the biggest\n",
        "anchors = create_anchors(sizes, ratios, scales)"
      ],
      "execution_count": 0,
      "outputs": []
    },
    {
      "cell_type": "code",
      "metadata": {
        "id": "vYJjkT_nqywb",
        "colab_type": "code",
        "colab": {
          "base_uri": "https://localhost:8080/",
          "height": 34
        },
        "outputId": "ec1702ab-5eac-4dc4-ff64-a603eb4a8456"
      },
      "source": [
        "anchors.size()"
      ],
      "execution_count": 35,
      "outputs": [
        {
          "output_type": "execute_result",
          "data": {
            "text/plain": [
              "torch.Size([3069, 4])"
            ]
          },
          "metadata": {
            "tags": []
          },
          "execution_count": 35
        }
      ]
    },
    {
      "cell_type": "markdown",
      "metadata": {
        "id": "W22pTOptqywe",
        "colab_type": "text"
      },
      "source": [
        "That's a bit less than in our computation earlier, but this is because it's for the case of (128,128) images (sizes go from (1,1) to (32,32) instead of (2,2) to (64,64))."
      ]
    },
    {
      "cell_type": "code",
      "metadata": {
        "id": "_E9eQfLUqywe",
        "colab_type": "code",
        "colab": {}
      },
      "source": [
        "import matplotlib.cm as cmx\n",
        "import matplotlib.colors as mcolors\n",
        "from cycler import cycler\n",
        "\n",
        "def get_cmap(N):\n",
        "    color_norm  = mcolors.Normalize(vmin=0, vmax=N-1)\n",
        "    return cmx.ScalarMappable(norm=color_norm, cmap='Set3').to_rgba\n",
        "\n",
        "num_color = 12\n",
        "cmap = get_cmap(num_color)\n",
        "color_list = [cmap(float(x)) for x in range(num_color)]\n",
        "\n",
        "def draw_outline(o, lw):\n",
        "    o.set_path_effects([patheffects.Stroke(\n",
        "        linewidth=lw, foreground='black'), patheffects.Normal()])\n",
        "\n",
        "def draw_rect(ax, b, color='white'):\n",
        "    patch = ax.add_patch(patches.Rectangle(b[:2], *b[-2:], fill=False, edgecolor=color, lw=2))\n",
        "    draw_outline(patch, 4)\n",
        "\n",
        "def draw_text(ax, xy, txt, sz=14, color='white'):\n",
        "    text = ax.text(*xy, txt,\n",
        "        verticalalignment='top', color=color, fontsize=sz, weight='bold')\n",
        "    draw_outline(text, 1)"
      ],
      "execution_count": 0,
      "outputs": []
    },
    {
      "cell_type": "code",
      "metadata": {
        "id": "LnsoxFmdqywh",
        "colab_type": "code",
        "colab": {}
      },
      "source": [
        "def show_boxes(boxes):\n",
        "    \"Show the `boxes` (size by 4)\"\n",
        "    _, ax = plt.subplots(1,1, figsize=(5,5))\n",
        "    ax.set_xlim(-1,1)\n",
        "    ax.set_ylim(1,-1)\n",
        "    for i, bbox in enumerate(boxes):\n",
        "        bb = bbox.numpy()\n",
        "        rect = [bb[1]-bb[3]/2, bb[0]-bb[2]/2, bb[3], bb[2]]\n",
        "        draw_rect(ax, rect, color=color_list[i%num_color])\n",
        "        draw_text(ax, [bb[1]-bb[3]/2,bb[0]-bb[2]/2], str(i), color=color_list[i%num_color])"
      ],
      "execution_count": 0,
      "outputs": []
    },
    {
      "cell_type": "markdown",
      "metadata": {
        "id": "WL6mmCBSqywj",
        "colab_type": "text"
      },
      "source": [
        "Here is an example of the 9 anchor boxes with different scales/ratios on one region of the image. Now imagine we have this at every location of each of the feature maps."
      ]
    },
    {
      "cell_type": "code",
      "metadata": {
        "id": "8dgD2pjiqywj",
        "colab_type": "code",
        "colab": {
          "base_uri": "https://localhost:8080/",
          "height": 324
        },
        "outputId": "a91266f0-9218-4a51-e561-fdc9068aa5c5"
      },
      "source": [
        "show_boxes(anchors[900:909])"
      ],
      "execution_count": 38,
      "outputs": [
        {
          "output_type": "display_data",
          "data": {
            "image/png": "[encoded data removed]",
            "text/plain": [
              "<Figure size 360x360 with 1 Axes>"
            ]
          },
          "metadata": {
            "tags": []
          }
        }
      ]
    },
    {
      "cell_type": "markdown",
      "metadata": {
        "id": "ZYB0ptsaqywl",
        "colab_type": "text"
      },
      "source": [
        "For each anchor, we have one class predicted by the classifier and 4 floats `p_y,p_x,p_h,p_w` predicted by the regressor. If the corresponding anchor as a center in `anc_y`, `anc_x` with dimensions `anc_h`, `anc_w`, the predicted bounding box has those characteristics:\n",
        "```\n",
        "center = [p_y * anc_h + anc_y, p_x * anc_w + anc_x]\n",
        "height = anc_h * exp(p_h)\n",
        "width  = anc_w * exp(p_w)\n",
        "```\n",
        "The idea is that a prediction of `(0,0,0,0)` corresponds to the anchor itself.\n",
        "\n",
        "The next function converts the activations of the model in bounding boxes."
      ]
    },
    {
      "cell_type": "code",
      "metadata": {
        "id": "_aGUEJTBqywm",
        "colab_type": "code",
        "colab": {}
      },
      "source": [
        "def activ_to_bbox(acts, anchors, flatten=True):\n",
        "    \"Extrapolate bounding boxes on anchors from the model activations.\"\n",
        "    if flatten:\n",
        "        acts.mul_(acts.new_tensor([[0.1, 0.1, 0.2, 0.2]])) #Can't remember where those scales come from, but they help regularize\n",
        "        centers = anchors[...,2:] * acts[...,:2] + anchors[...,:2]\n",
        "        sizes = anchors[...,2:] * torch.exp(acts[...,:2])\n",
        "        return torch.cat([centers, sizes], -1)\n",
        "    else: return [activ_to_bbox(act,anc) for act,anc in zip(acts, anchors)]\n",
        "    return res"
      ],
      "execution_count": 0,
      "outputs": []
    },
    {
      "cell_type": "markdown",
      "metadata": {
        "id": "xr8b8S29qywo",
        "colab_type": "text"
      },
      "source": [
        "Here is an example with the 3 by 4 regular grid and random predictions."
      ]
    },
    {
      "cell_type": "code",
      "metadata": {
        "id": "SSxVQaBbqywo",
        "colab_type": "code",
        "colab": {}
      },
      "source": [
        "size=(3,4)\n",
        "anchors = create_grid(size)\n",
        "anchors = torch.cat([anchors, torch.tensor([2/size[0],2/size[1]]).expand_as(anchors)], 1)\n",
        "activations = torch.randn(size[0]*size[1], 4) * 0.1\n",
        "bboxes = activ_to_bbox(activations, anchors)"
      ],
      "execution_count": 0,
      "outputs": []
    },
    {
      "cell_type": "code",
      "metadata": {
        "id": "Ca8TynLGqywr",
        "colab_type": "code",
        "colab": {
          "base_uri": "https://localhost:8080/",
          "height": 324
        },
        "outputId": "5ac95171-bb8c-4e05-ec31-58c8ad97d9b6"
      },
      "source": [
        "show_boxes(bboxes)"
      ],
      "execution_count": 41,
      "outputs": [
        {
          "output_type": "display_data",
          "data": {
            "image/png": "[encoded data removed]",
            "text/plain": [
              "<Figure size 360x360 with 1 Axes>"
            ]
          },
          "metadata": {
            "tags": []
          }
        }
      ]
    },
    {
      "cell_type": "markdown",
      "metadata": {
        "id": "-3S-Ok2vqywt",
        "colab_type": "text"
      },
      "source": [
        "This helper function changes boxes in the format center/height/width to top/left/bottom/right."
      ]
    },
    {
      "cell_type": "code",
      "metadata": {
        "id": "ha1b7rIZqywt",
        "colab_type": "code",
        "colab": {}
      },
      "source": [
        "def cthw2tlbr(boxes):\n",
        "    \"Convert center/size format `boxes` to top/left bottom/right corners.\"\n",
        "    top_left = boxes[:,:2] - boxes[:,2:]/2\n",
        "    bot_right = boxes[:,:2] + boxes[:,2:]/2\n",
        "    return torch.cat([top_left, bot_right], 1)"
      ],
      "execution_count": 0,
      "outputs": []
    },
    {
      "cell_type": "markdown",
      "metadata": {
        "id": "Z9pqRcURqyww",
        "colab_type": "text"
      },
      "source": [
        "Now to decide which predicted bounding box will match a given ground truth object, we will compute the intersection over unions ratios between all the anchors and all the targets, then we will keep the ones that have an overlap greater than a given threshold (0.5)."
      ]
    },
    {
      "cell_type": "code",
      "metadata": {
        "id": "5w8bBzs_qywx",
        "colab_type": "code",
        "colab": {}
      },
      "source": [
        "def intersection(anchors, targets):\n",
        "    \"Compute the sizes of the intersections of `anchors` by `targets`.\"\n",
        "    ancs, tgts = cthw2tlbr(anchors), cthw2tlbr(targets)\n",
        "    a, t = ancs.size(0), tgts.size(0)\n",
        "    ancs, tgts = ancs.unsqueeze(1).expand(a,t,4), tgts.unsqueeze(0).expand(a,t,4)\n",
        "    top_left_i = torch.max(ancs[...,:2], tgts[...,:2])\n",
        "    bot_right_i = torch.min(ancs[...,2:], tgts[...,2:])\n",
        "    sizes = torch.clamp(bot_right_i - top_left_i, min=0) \n",
        "    return sizes[...,0] * sizes[...,1]"
      ],
      "execution_count": 0,
      "outputs": []
    },
    {
      "cell_type": "markdown",
      "metadata": {
        "id": "xucZePXlqywz",
        "colab_type": "text"
      },
      "source": [
        "Let's see some results, if we have our 12 anchors from before..."
      ]
    },
    {
      "cell_type": "code",
      "metadata": {
        "id": "TOj0qJU_qywz",
        "colab_type": "code",
        "colab": {
          "base_uri": "https://localhost:8080/",
          "height": 324
        },
        "outputId": "86890b7a-d0dd-49a6-8150-69033bce9594"
      },
      "source": [
        "show_boxes(anchors)"
      ],
      "execution_count": 44,
      "outputs": [
        {
          "output_type": "display_data",
          "data": {
            "image/png": "[encoded data removed]",
            "text/plain": [
              "<Figure size 360x360 with 1 Axes>"
            ]
          },
          "metadata": {
            "tags": []
          }
        }
      ]
    },
    {
      "cell_type": "markdown",
      "metadata": {
        "id": "1JgSAeMhqyw3",
        "colab_type": "text"
      },
      "source": [
        "... and those targets (0. is the whole image)"
      ]
    },
    {
      "cell_type": "code",
      "metadata": {
        "id": "iEALn-MPqyw5",
        "colab_type": "code",
        "colab": {
          "base_uri": "https://localhost:8080/",
          "height": 324
        },
        "outputId": "70947655-0ded-4028-8673-4ac42bc52e36"
      },
      "source": [
        "targets = torch.tensor([[0.,0.,2.,2.], [-0.5,-0.5,1.,1.], [1/3,0.5,0.5,0.5]])\n",
        "show_boxes(targets)"
      ],
      "execution_count": 45,
      "outputs": [
        {
          "output_type": "display_data",
          "data": {
            "image/png": "[encoded data removed]",
            "text/plain": [
              "<Figure size 360x360 with 1 Axes>"
            ]
          },
          "metadata": {
            "tags": []
          }
        }
      ]
    },
    {
      "cell_type": "markdown",
      "metadata": {
        "id": "VeaHbrlXqyw9",
        "colab_type": "text"
      },
      "source": [
        "Then the intersections of each bboxes by each targets are:"
      ]
    },
    {
      "cell_type": "code",
      "metadata": {
        "id": "Vznp5pwvqyw_",
        "colab_type": "code",
        "colab": {
          "base_uri": "https://localhost:8080/",
          "height": 221
        },
        "outputId": "b8fe5ec1-28ef-4e81-fe5f-81ca0f6b147b"
      },
      "source": [
        "intersection(anchors, targets)"
      ],
      "execution_count": 46,
      "outputs": [
        {
          "output_type": "execute_result",
          "data": {
            "text/plain": [
              "tensor([[0.3333, 0.3333, 0.0000],\n",
              "        [0.3333, 0.3333, 0.0000],\n",
              "        [0.3333, 0.0000, 0.0000],\n",
              "        [0.3333, 0.0000, 0.0000],\n",
              "        [0.3333, 0.1667, 0.0000],\n",
              "        [0.3333, 0.1667, 0.0000],\n",
              "        [0.3333, 0.0000, 0.0625],\n",
              "        [0.3333, 0.0000, 0.0625],\n",
              "        [0.3333, 0.0000, 0.0000],\n",
              "        [0.3333, 0.0000, 0.0000],\n",
              "        [0.3333, 0.0000, 0.0625],\n",
              "        [0.3333, 0.0000, 0.0625]])"
            ]
          },
          "metadata": {
            "tags": []
          },
          "execution_count": 46
        }
      ]
    },
    {
      "cell_type": "code",
      "metadata": {
        "id": "tAfvXDIOqyxC",
        "colab_type": "code",
        "colab": {}
      },
      "source": [
        "def IoU_values(anchors, targets):\n",
        "    \"Compute the IoU values of `anchors` by `targets`.\"\n",
        "    inter = intersection(anchors, targets)\n",
        "    anc_sz, tgt_sz = anchors[:,2] * anchors[:,3], targets[:,2] * targets[:,3]\n",
        "    union = anc_sz.unsqueeze(1) + tgt_sz.unsqueeze(0) - inter\n",
        "    return inter/(union+1e-8)"
      ],
      "execution_count": 0,
      "outputs": []
    },
    {
      "cell_type": "markdown",
      "metadata": {
        "id": "6aiMVPcBqyxF",
        "colab_type": "text"
      },
      "source": [
        "And then the IoU values are."
      ]
    },
    {
      "cell_type": "code",
      "metadata": {
        "id": "jw-IAJ7rqyxG",
        "colab_type": "code",
        "colab": {
          "base_uri": "https://localhost:8080/",
          "height": 221
        },
        "outputId": "15c29ccc-78b7-4806-e1bf-82e00d968c0f"
      },
      "source": [
        "IoU_values(anchors, targets)"
      ],
      "execution_count": 48,
      "outputs": [
        {
          "output_type": "execute_result",
          "data": {
            "text/plain": [
              "tensor([[0.0833, 0.3333, 0.0000],\n",
              "        [0.0833, 0.3333, 0.0000],\n",
              "        [0.0833, 0.0000, 0.0000],\n",
              "        [0.0833, 0.0000, 0.0000],\n",
              "        [0.0833, 0.1429, 0.0000],\n",
              "        [0.0833, 0.1429, 0.0000],\n",
              "        [0.0833, 0.0000, 0.1200],\n",
              "        [0.0833, 0.0000, 0.1200],\n",
              "        [0.0833, 0.0000, 0.0000],\n",
              "        [0.0833, 0.0000, 0.0000],\n",
              "        [0.0833, 0.0000, 0.1200],\n",
              "        [0.0833, 0.0000, 0.1200]])"
            ]
          },
          "metadata": {
            "tags": []
          },
          "execution_count": 48
        }
      ]
    },
    {
      "cell_type": "markdown",
      "metadata": {
        "id": "bbr46SKdqyxH",
        "colab_type": "text"
      },
      "source": [
        "Then we match a anchor to targets with the following rules:\n",
        "- for each anchor we take the maximum overlap possible with any of the targets.\n",
        "- if that maximum overlap is less than 0.4, we match the anchor box to background, the classifier's target will be that class\n",
        "- if the maximum overlap is greater than 0.5, we match the anchor box to that ground truth object. The classifier's target will be the category of that target\n",
        "- if the maximum overlap is between 0.4 and 0.5, we ignore that anchor in our loss computation\n",
        "- optionally, we force-match for each ground truth object the anchor that has the maximum overlap with it (not sure it helps)"
      ]
    },
    {
      "cell_type": "code",
      "metadata": {
        "id": "B8yHQXdeqyxI",
        "colab_type": "code",
        "colab": {}
      },
      "source": [
        "def match_anchors(anchors, targets, match_thr=0.5, bkg_thr=0.4):\n",
        "    \"Match `anchors` to targets. -1 is match to background, -2 is ignore.\"\n",
        "    matches = anchors.new(anchors.size(0)).zero_().long() - 2\n",
        "    if targets.numel() == 0: return matches\n",
        "    ious = IoU_values(anchors, targets)\n",
        "    vals,idxs = torch.max(ious,1)\n",
        "    matches[vals < bkg_thr] = -1\n",
        "    matches[vals > match_thr] = idxs[vals > match_thr]\n",
        "    #Overwrite matches with each target getting the anchor that has the max IoU.\n",
        "    #vals,idxs = torch.max(ious,0)\n",
        "    #If idxs contains repetition, this doesn't bug and only the last is considered.\n",
        "    #matches[idxs] = targets.new_tensor(list(range(targets.size(0)))).long()\n",
        "    return matches"
      ],
      "execution_count": 0,
      "outputs": []
    },
    {
      "cell_type": "markdown",
      "metadata": {
        "id": "l7vhX9XeqyxN",
        "colab_type": "text"
      },
      "source": [
        "In our previous example, no one had an overlap > 0.5, so unless we use the special rule commented out, there are no matches."
      ]
    },
    {
      "cell_type": "code",
      "metadata": {
        "id": "cr_0JQj7qyxN",
        "colab_type": "code",
        "colab": {
          "base_uri": "https://localhost:8080/",
          "height": 34
        },
        "outputId": "088e0c6d-2fbc-45ae-a4d6-3c53f66da8cf"
      },
      "source": [
        "match_anchors(anchors, targets)"
      ],
      "execution_count": 50,
      "outputs": [
        {
          "output_type": "execute_result",
          "data": {
            "text/plain": [
              "tensor([-1, -1, -1, -1, -1, -1, -1, -1, -1, -1, -1, -1])"
            ]
          },
          "metadata": {
            "tags": []
          },
          "execution_count": 50
        }
      ]
    },
    {
      "cell_type": "markdown",
      "metadata": {
        "id": "E-6b4hrUqyxQ",
        "colab_type": "text"
      },
      "source": [
        "With anchors very close to the targets."
      ]
    },
    {
      "cell_type": "code",
      "metadata": {
        "id": "y6WEBov_qyxQ",
        "colab_type": "code",
        "colab": {
          "base_uri": "https://localhost:8080/",
          "height": 34
        },
        "outputId": "c9f8875d-9c05-47d5-fd18-e41d754d26a6"
      },
      "source": [
        "size=(3,4)\n",
        "anchors = create_grid(size)\n",
        "anchors = torch.cat([anchors, torch.tensor([2/size[0],2/size[1]]).expand_as(anchors)], 1)\n",
        "activations = 0.1 * torch.randn(size[0]*size[1], 4)\n",
        "bboxes = activ_to_bbox(activations, anchors)\n",
        "match_anchors(anchors,bboxes)"
      ],
      "execution_count": 51,
      "outputs": [
        {
          "output_type": "execute_result",
          "data": {
            "text/plain": [
              "tensor([ 0,  1,  2,  3,  4,  5,  6,  7,  8,  9, 10, 11])"
            ]
          },
          "metadata": {
            "tags": []
          },
          "execution_count": 51
        }
      ]
    },
    {
      "cell_type": "markdown",
      "metadata": {
        "id": "ZUrkKFXVqyxS",
        "colab_type": "text"
      },
      "source": [
        "With anchors in the grey area."
      ]
    },
    {
      "cell_type": "code",
      "metadata": {
        "id": "tcPT5IZtqyxT",
        "colab_type": "code",
        "colab": {
          "base_uri": "https://localhost:8080/",
          "height": 34
        },
        "outputId": "f6a4b974-a5c0-48c2-fa92-0230d1c3d50f"
      },
      "source": [
        "anchors = create_grid((2,2))\n",
        "anchors = torch.cat([anchors, torch.tensor([1.,1.]).expand_as(anchors)], 1)\n",
        "targets = anchors.clone()\n",
        "anchors = torch.cat([anchors, torch.tensor([[-0.5,0.,1.,1.8]])], 0)\n",
        "match_anchors(anchors,targets)"
      ],
      "execution_count": 52,
      "outputs": [
        {
          "output_type": "execute_result",
          "data": {
            "text/plain": [
              "tensor([ 0,  1,  2,  3, -2])"
            ]
          },
          "metadata": {
            "tags": []
          },
          "execution_count": 52
        }
      ]
    },
    {
      "cell_type": "markdown",
      "metadata": {
        "id": "T1woyh96qyxU",
        "colab_type": "text"
      },
      "source": [
        "Does the opposite of `cthw2tbr`."
      ]
    },
    {
      "cell_type": "code",
      "metadata": {
        "id": "lYGwTVZAqyxV",
        "colab_type": "code",
        "colab": {}
      },
      "source": [
        "def tlbr2cthw(boxes):\n",
        "    \"Convert top/left bottom/right format `boxes` to center/size corners.\"\n",
        "    center = (boxes[:,:2] + boxes[:,2:])/2\n",
        "    sizes = boxes[:,2:] - boxes[:,:2]\n",
        "    return torch.cat([center, sizes], 1)"
      ],
      "execution_count": 0,
      "outputs": []
    },
    {
      "cell_type": "markdown",
      "metadata": {
        "id": "CTEZwHBlqyxY",
        "colab_type": "text"
      },
      "source": [
        "Does the opposite of `activ_to_bbox`."
      ]
    },
    {
      "cell_type": "code",
      "metadata": {
        "id": "dcVD3LBOqyxZ",
        "colab_type": "code",
        "colab": {}
      },
      "source": [
        "def bbox_to_activ(bboxes, anchors, flatten=True):\n",
        "    \"Return the target of the model on `anchors` for the `bboxes`.\"\n",
        "    if flatten:\n",
        "        t_centers = (bboxes[...,:2] - anchors[...,:2]) / anchors[...,2:] \n",
        "        t_sizes = torch.log(bboxes[...,2:] / anchors[...,2:] + 1e-8) \n",
        "        return torch.cat([t_centers, t_sizes], -1).div_(bboxes.new_tensor([[0.1, 0.1, 0.2, 0.2]]))\n",
        "    else: return [activ_to_bbox(act,anc) for act,anc in zip(acts, anchors)]\n",
        "    return res"
      ],
      "execution_count": 0,
      "outputs": []
    },
    {
      "cell_type": "markdown",
      "metadata": {
        "id": "5F-KfjFDqyxa",
        "colab_type": "text"
      },
      "source": [
        "We will one-hot encode our targets with the convention that the class of index 0 is the background, which is the absence of any other classes. That is coded by a row of zeros."
      ]
    },
    {
      "cell_type": "code",
      "metadata": {
        "id": "h9a9VvGKqyxc",
        "colab_type": "code",
        "colab": {}
      },
      "source": [
        "def encode_class(idxs, n_classes):\n",
        "    target = idxs.new_zeros(len(idxs), n_classes).float()\n",
        "    mask = idxs != 0\n",
        "    i1s = LongTensor(list(range(len(idxs))))\n",
        "    target[i1s[mask],idxs[mask]-1] = 1\n",
        "    return target"
      ],
      "execution_count": 0,
      "outputs": []
    },
    {
      "cell_type": "code",
      "metadata": {
        "id": "11J5VjPUqyxe",
        "colab_type": "code",
        "colab": {
          "base_uri": "https://localhost:8080/",
          "height": 102
        },
        "outputId": "0f94b825-7043-4b08-cf4e-f9a26adaa4e1"
      },
      "source": [
        "encode_class(LongTensor([1,2,0,1,3]),3)"
      ],
      "execution_count": 56,
      "outputs": [
        {
          "output_type": "execute_result",
          "data": {
            "text/plain": [
              "tensor([[1., 0., 0.],\n",
              "        [0., 1., 0.],\n",
              "        [0., 0., 0.],\n",
              "        [1., 0., 0.],\n",
              "        [0., 0., 1.]])"
            ]
          },
          "metadata": {
            "tags": []
          },
          "execution_count": 56
        }
      ]
    },
    {
      "cell_type": "markdown",
      "metadata": {
        "id": "ggLpB_zPqyxg",
        "colab_type": "text"
      },
      "source": [
        "And now we are ready to build the loss function. It has two parts, one for the classifier and one for the regressor. For the regression, we will use the L1 (potentially smoothed) loss between the predicted activations for an anchor that matches a given object (we ignore the no match or matches to background) and the corresponding bounding box (after going through `bbox2activ`).\n",
        "\n",
        "For the classification, we use the focal loss, which is a variant of the binary cross entropy used when we have a lot imbalance between the classes to predict (here we will very often have to predict 'background')."
      ]
    },
    {
      "cell_type": "code",
      "metadata": {
        "id": "GFb_cuFIqyxh",
        "colab_type": "code",
        "colab": {}
      },
      "source": [
        "class RetinaNetFocalLoss(nn.Module):\n",
        "    \n",
        "    def __init__(self, gamma:float=2., alpha:float=0.25,  pad_idx:int=0, scales:Collection[float]=None, \n",
        "                 ratios:Collection[float]=None, reg_loss:LossFunction=F.smooth_l1_loss):\n",
        "        super().__init__()\n",
        "        self.gamma,self.alpha,self.pad_idx,self.reg_loss = gamma,alpha,pad_idx,reg_loss\n",
        "        self.scales = ifnone(scales, [1,2**(-1/3), 2**(-2/3)])\n",
        "        self.ratios = ifnone(ratios, [1/2,1,2])\n",
        "        \n",
        "    def _change_anchors(self, sizes:Sizes) -> bool:\n",
        "        if not hasattr(self, 'sizes'): return True\n",
        "        for sz1, sz2 in zip(self.sizes, sizes):\n",
        "            if sz1[0] != sz2[0] or sz1[1] != sz2[1]: return True\n",
        "        return False\n",
        "    \n",
        "    def _create_anchors(self, sizes:Sizes, device:torch.device):\n",
        "        self.sizes = sizes\n",
        "        self.anchors = create_anchors(sizes, self.ratios, self.scales).to(device)\n",
        "    \n",
        "    def _unpad(self, bbox_tgt, clas_tgt):\n",
        "        i = torch.min(torch.nonzero(clas_tgt-self.pad_idx))\n",
        "        return tlbr2cthw(bbox_tgt[i:]), clas_tgt[i:]-1+self.pad_idx\n",
        "    \n",
        "    def _focal_loss(self, clas_pred, clas_tgt):\n",
        "        encoded_tgt = encode_class(clas_tgt, clas_pred.size(1))\n",
        "        ps = torch.sigmoid(clas_pred.detach())\n",
        "        weights = encoded_tgt * (1-ps) + (1-encoded_tgt) * ps\n",
        "        alphas = (1-encoded_tgt) * self.alpha + encoded_tgt * (1-self.alpha)\n",
        "        weights.pow_(self.gamma).mul_(alphas)\n",
        "        clas_loss = F.binary_cross_entropy_with_logits(clas_pred, encoded_tgt, weights, reduction='sum')\n",
        "        return clas_loss\n",
        "        \n",
        "    def _one_loss(self, clas_pred, bbox_pred, clas_tgt, bbox_tgt):\n",
        "        bbox_tgt, clas_tgt = self._unpad(bbox_tgt, clas_tgt)\n",
        "        matches = match_anchors(self.anchors, bbox_tgt)\n",
        "        bbox_mask = matches>=0\n",
        "        if bbox_mask.sum() != 0:\n",
        "            bbox_pred = bbox_pred[bbox_mask]\n",
        "            bbox_tgt = bbox_tgt[matches[bbox_mask]]\n",
        "            bb_loss = self.reg_loss(bbox_pred, bbox_to_activ(bbox_tgt, self.anchors[bbox_mask]))\n",
        "        else: bb_loss = 0.\n",
        "        matches.add_(1)\n",
        "        clas_tgt = clas_tgt + 1\n",
        "        clas_mask = matches>=0\n",
        "        clas_pred = clas_pred[clas_mask]\n",
        "        clas_tgt = torch.cat([clas_tgt.new_zeros(1).long(), clas_tgt])\n",
        "        clas_tgt = clas_tgt[matches[clas_mask]]\n",
        "        return bb_loss + self._focal_loss(clas_pred, clas_tgt)/torch.clamp(bbox_mask.sum(), min=1.)\n",
        "    \n",
        "    def forward(self, output, bbox_tgts, clas_tgts):\n",
        "        clas_preds, bbox_preds, sizes = output\n",
        "        if self._change_anchors(sizes): self._create_anchors(sizes, clas_preds.device)\n",
        "        n_classes = clas_preds.size(2)\n",
        "        return sum([self._one_loss(cp, bp, ct, bt)\n",
        "                    for (cp, bp, ct, bt) in zip(clas_preds, bbox_preds, clas_tgts, bbox_tgts)])/clas_tgts.size(0)"
      ],
      "execution_count": 0,
      "outputs": []
    },
    {
      "cell_type": "markdown",
      "metadata": {
        "id": "qCdQpUJuqyxj",
        "colab_type": "text"
      },
      "source": [
        "This is a variant of the L1 loss used in several implementations:"
      ]
    },
    {
      "cell_type": "code",
      "metadata": {
        "id": "xmWqNiJ2qyxj",
        "colab_type": "code",
        "colab": {}
      },
      "source": [
        "class SigmaL1SmoothLoss(nn.Module):\n",
        "\n",
        "    def forward(self, output, target):\n",
        "        reg_diff = torch.abs(target - output)\n",
        "        reg_loss = torch.where(torch.le(reg_diff, 1/9), 4.5 * torch.pow(reg_diff, 2), reg_diff - 1/18)\n",
        "        return reg_loss.mean()"
      ],
      "execution_count": 0,
      "outputs": []
    },
    {
      "cell_type": "markdown",
      "metadata": {
        "id": "_dNBxKwQqyxl",
        "colab_type": "text"
      },
      "source": [
        "## Defining the Learner"
      ]
    },
    {
      "cell_type": "code",
      "metadata": {
        "id": "6w13zxKcqyxm",
        "colab_type": "code",
        "colab": {}
      },
      "source": [
        "ratios = [1/2,1,2]\n",
        "scales = [1,2**(-1/3), 2**(-2/3)]\n",
        "#scales = [1,2**(1/3), 2**(2/3)] for bigger size"
      ],
      "execution_count": 0,
      "outputs": []
    },
    {
      "cell_type": "code",
      "metadata": {
        "id": "57307pA6qyxp",
        "colab_type": "code",
        "colab": {}
      },
      "source": [
        "encoder = create_body(models.resnet50, cut=-2)\n",
        "model = RetinaNet(encoder, data.c, final_bias=-4)\n",
        "crit = RetinaNetFocalLoss(scales=scales, ratios=ratios)\n",
        "learn = Learner(data, model, loss_func=crit)"
      ],
      "execution_count": 0,
      "outputs": []
    },
    {
      "cell_type": "markdown",
      "metadata": {
        "id": "ylKAL8QPqyxr",
        "colab_type": "text"
      },
      "source": [
        "Why `final_bias=-4`? That's because we want the network to predict background easily at the beginning (since it's the most common class). At first the final convolution of the classifier is initialized with weights=0 and that bias, so it will return -4 for everyone. If go though a sigmoid "
      ]
    },
    {
      "cell_type": "code",
      "metadata": {
        "id": "gjbcGvGtqyxs",
        "colab_type": "code",
        "colab": {
          "base_uri": "https://localhost:8080/",
          "height": 34
        },
        "outputId": "92e6c71d-ab59-49b9-9fb4-2205c329c070"
      },
      "source": [
        "torch.sigmoid(tensor([-4.]))"
      ],
      "execution_count": 61,
      "outputs": [
        {
          "output_type": "execute_result",
          "data": {
            "text/plain": [
              "tensor([0.0180])"
            ]
          },
          "metadata": {
            "tags": []
          },
          "execution_count": 61
        }
      ]
    },
    {
      "cell_type": "markdown",
      "metadata": {
        "id": "DT96HK6Yqyxt",
        "colab_type": "text"
      },
      "source": [
        "We see it'll give a corresponding probability of 0.02 roughly. \n",
        "\n",
        "Then, for transfer learning/discriminative LRs, we need to define how to split between body and custom head."
      ]
    },
    {
      "cell_type": "code",
      "metadata": {
        "id": "iuC0WYLBqyxu",
        "colab_type": "code",
        "colab": {}
      },
      "source": [
        "def retina_net_split(model):\n",
        "    groups = [list(model.encoder.children())[:6], list(model.encoder.children())[6:]]\n",
        "    return groups + [list(model.children())[1:]]"
      ],
      "execution_count": 0,
      "outputs": []
    },
    {
      "cell_type": "code",
      "metadata": {
        "id": "kPHO1GFpqyxv",
        "colab_type": "code",
        "colab": {}
      },
      "source": [
        "learn = learn.split(retina_net_split)"
      ],
      "execution_count": 0,
      "outputs": []
    },
    {
      "cell_type": "markdown",
      "metadata": {
        "id": "wuGRO11Eqyxx",
        "colab_type": "text"
      },
      "source": [
        "And now we can train as usual!"
      ]
    },
    {
      "cell_type": "code",
      "metadata": {
        "id": "dA-RMa49qyxy",
        "colab_type": "code",
        "colab": {}
      },
      "source": [
        "learn.freeze()"
      ],
      "execution_count": 0,
      "outputs": []
    },
    {
      "cell_type": "code",
      "metadata": {
        "id": "HQ9U8dF6qyx0",
        "colab_type": "code",
        "colab": {
          "base_uri": "https://localhost:8080/",
          "height": 323
        },
        "outputId": "cdd89760-7071-4e45-e9a6-d37bedec59e5"
      },
      "source": [
        "learn.lr_find()"
      ],
      "execution_count": 65,
      "outputs": [
        {
          "output_type": "display_data",
          "data": {
            "text/html": [
              ""
            ],
            "text/plain": [
              "<IPython.core.display.HTML object>"
            ]
          },
          "metadata": {
            "tags": []
          }
        },
        {
          "output_type": "stream",
          "text": [
            "LR Finder is complete, type {learner_name}.recorder.plot() to see the graph.\n"
          ],
          "name": "stdout"
        },
        {
          "output_type": "error",
          "ename": "RuntimeError",
          "evalue": "ignored",
          "traceback": [
            "\u001b[0;31m---------------------------------------------------------------------------\u001b[0m",
            "\u001b[0;31mRuntimeError\u001b[0m                              Traceback (most recent call last)",
            "\u001b[0;32m<ipython-input-65-d81c6bd29d71>\u001b[0m in \u001b[0;36m<module>\u001b[0;34m()\u001b[0m\n\u001b[0;32m----> 1\u001b[0;31m \u001b[0mlearn\u001b[0m\u001b[0;34m.\u001b[0m\u001b[0mlr_find\u001b[0m\u001b[0;34m(\u001b[0m\u001b[0;34m)\u001b[0m\u001b[0;34m\u001b[0m\u001b[0;34m\u001b[0m\u001b[0m\n\u001b[0m",
            "\u001b[0;32m/usr/local/lib/python3.6/dist-packages/fastai/train.py\u001b[0m in \u001b[0;36mlr_find\u001b[0;34m(learn, start_lr, end_lr, num_it, stop_div, wd)\u001b[0m\n\u001b[1;32m     30\u001b[0m     \u001b[0mcb\u001b[0m \u001b[0;34m=\u001b[0m \u001b[0mLRFinder\u001b[0m\u001b[0;34m(\u001b[0m\u001b[0mlearn\u001b[0m\u001b[0;34m,\u001b[0m \u001b[0mstart_lr\u001b[0m\u001b[0;34m,\u001b[0m \u001b[0mend_lr\u001b[0m\u001b[0;34m,\u001b[0m \u001b[0mnum_it\u001b[0m\u001b[0;34m,\u001b[0m \u001b[0mstop_div\u001b[0m\u001b[0;34m)\u001b[0m\u001b[0;34m\u001b[0m\u001b[0;34m\u001b[0m\u001b[0m\n\u001b[1;32m     31\u001b[0m     \u001b[0mepochs\u001b[0m \u001b[0;34m=\u001b[0m \u001b[0mint\u001b[0m\u001b[0;34m(\u001b[0m\u001b[0mnp\u001b[0m\u001b[0;34m.\u001b[0m\u001b[0mceil\u001b[0m\u001b[0;34m(\u001b[0m\u001b[0mnum_it\u001b[0m\u001b[0;34m/\u001b[0m\u001b[0mlen\u001b[0m\u001b[0;34m(\u001b[0m\u001b[0mlearn\u001b[0m\u001b[0;34m.\u001b[0m\u001b[0mdata\u001b[0m\u001b[0;34m.\u001b[0m\u001b[0mtrain_dl\u001b[0m\u001b[0;34m)\u001b[0m\u001b[0;34m)\u001b[0m\u001b[0;34m)\u001b[0m\u001b[0;34m\u001b[0m\u001b[0;34m\u001b[0m\u001b[0m\n\u001b[0;32m---> 32\u001b[0;31m     \u001b[0mlearn\u001b[0m\u001b[0;34m.\u001b[0m\u001b[0mfit\u001b[0m\u001b[0;34m(\u001b[0m\u001b[0mepochs\u001b[0m\u001b[0;34m,\u001b[0m \u001b[0mstart_lr\u001b[0m\u001b[0;34m,\u001b[0m \u001b[0mcallbacks\u001b[0m\u001b[0;34m=\u001b[0m\u001b[0;34m[\u001b[0m\u001b[0mcb\u001b[0m\u001b[0;34m]\u001b[0m\u001b[0;34m,\u001b[0m \u001b[0mwd\u001b[0m\u001b[0;34m=\u001b[0m\u001b[0mwd\u001b[0m\u001b[0;34m)\u001b[0m\u001b[0;34m\u001b[0m\u001b[0;34m\u001b[0m\u001b[0m\n\u001b[0m\u001b[1;32m     33\u001b[0m \u001b[0;34m\u001b[0m\u001b[0m\n\u001b[1;32m     34\u001b[0m def to_fp16(learn:Learner, loss_scale:float=None, max_noskip:int=1000, dynamic:bool=True, clip:float=None,\n",
            "\u001b[0;32m/usr/local/lib/python3.6/dist-packages/fastai/basic_train.py\u001b[0m in \u001b[0;36mfit\u001b[0;34m(self, epochs, lr, wd, callbacks)\u001b[0m\n\u001b[1;32m    200\u001b[0m         \u001b[0mcallbacks\u001b[0m \u001b[0;34m=\u001b[0m \u001b[0;34m[\u001b[0m\u001b[0mcb\u001b[0m\u001b[0;34m(\u001b[0m\u001b[0mself\u001b[0m\u001b[0;34m)\u001b[0m \u001b[0;32mfor\u001b[0m \u001b[0mcb\u001b[0m \u001b[0;32min\u001b[0m \u001b[0mself\u001b[0m\u001b[0;34m.\u001b[0m\u001b[0mcallback_fns\u001b[0m \u001b[0;34m+\u001b[0m \u001b[0mlistify\u001b[0m\u001b[0;34m(\u001b[0m\u001b[0mdefaults\u001b[0m\u001b[0;34m.\u001b[0m\u001b[0mextra_callback_fns\u001b[0m\u001b[0;34m)\u001b[0m\u001b[0;34m]\u001b[0m \u001b[0;34m+\u001b[0m \u001b[0mlistify\u001b[0m\u001b[0;34m(\u001b[0m\u001b[0mcallbacks\u001b[0m\u001b[0;34m)\u001b[0m\u001b[0;34m\u001b[0m\u001b[0;34m\u001b[0m\u001b[0m\n\u001b[1;32m    201\u001b[0m         \u001b[0mself\u001b[0m\u001b[0;34m.\u001b[0m\u001b[0mcb_fns_registered\u001b[0m \u001b[0;34m=\u001b[0m \u001b[0;32mTrue\u001b[0m\u001b[0;34m\u001b[0m\u001b[0;34m\u001b[0m\u001b[0m\n\u001b[0;32m--> 202\u001b[0;31m         \u001b[0mfit\u001b[0m\u001b[0;34m(\u001b[0m\u001b[0mepochs\u001b[0m\u001b[0;34m,\u001b[0m \u001b[0mself\u001b[0m\u001b[0;34m,\u001b[0m \u001b[0mmetrics\u001b[0m\u001b[0;34m=\u001b[0m\u001b[0mself\u001b[0m\u001b[0;34m.\u001b[0m\u001b[0mmetrics\u001b[0m\u001b[0;34m,\u001b[0m \u001b[0mcallbacks\u001b[0m\u001b[0;34m=\u001b[0m\u001b[0mself\u001b[0m\u001b[0;34m.\u001b[0m\u001b[0mcallbacks\u001b[0m\u001b[0;34m+\u001b[0m\u001b[0mcallbacks\u001b[0m\u001b[0;34m)\u001b[0m\u001b[0;34m\u001b[0m\u001b[0;34m\u001b[0m\u001b[0m\n\u001b[0m\u001b[1;32m    203\u001b[0m \u001b[0;34m\u001b[0m\u001b[0m\n\u001b[1;32m    204\u001b[0m     \u001b[0;32mdef\u001b[0m \u001b[0mcreate_opt\u001b[0m\u001b[0;34m(\u001b[0m\u001b[0mself\u001b[0m\u001b[0;34m,\u001b[0m \u001b[0mlr\u001b[0m\u001b[0;34m:\u001b[0m\u001b[0mFloats\u001b[0m\u001b[0;34m,\u001b[0m \u001b[0mwd\u001b[0m\u001b[0;34m:\u001b[0m\u001b[0mFloats\u001b[0m\u001b[0;34m=\u001b[0m\u001b[0;36m0.\u001b[0m\u001b[0;34m)\u001b[0m\u001b[0;34m->\u001b[0m\u001b[0;32mNone\u001b[0m\u001b[0;34m:\u001b[0m\u001b[0;34m\u001b[0m\u001b[0;34m\u001b[0m\u001b[0m\n",
            "\u001b[0;32m/usr/local/lib/python3.6/dist-packages/fastai/basic_train.py\u001b[0m in \u001b[0;36mfit\u001b[0;34m(epochs, learn, callbacks, metrics)\u001b[0m\n\u001b[1;32m     99\u001b[0m             \u001b[0;32mfor\u001b[0m \u001b[0mxb\u001b[0m\u001b[0;34m,\u001b[0m\u001b[0myb\u001b[0m \u001b[0;32min\u001b[0m \u001b[0mprogress_bar\u001b[0m\u001b[0;34m(\u001b[0m\u001b[0mlearn\u001b[0m\u001b[0;34m.\u001b[0m\u001b[0mdata\u001b[0m\u001b[0;34m.\u001b[0m\u001b[0mtrain_dl\u001b[0m\u001b[0;34m,\u001b[0m \u001b[0mparent\u001b[0m\u001b[0;34m=\u001b[0m\u001b[0mpbar\u001b[0m\u001b[0;34m)\u001b[0m\u001b[0;34m:\u001b[0m\u001b[0;34m\u001b[0m\u001b[0;34m\u001b[0m\u001b[0m\n\u001b[1;32m    100\u001b[0m                 \u001b[0mxb\u001b[0m\u001b[0;34m,\u001b[0m \u001b[0myb\u001b[0m \u001b[0;34m=\u001b[0m \u001b[0mcb_handler\u001b[0m\u001b[0;34m.\u001b[0m\u001b[0mon_batch_begin\u001b[0m\u001b[0;34m(\u001b[0m\u001b[0mxb\u001b[0m\u001b[0;34m,\u001b[0m \u001b[0myb\u001b[0m\u001b[0;34m)\u001b[0m\u001b[0;34m\u001b[0m\u001b[0;34m\u001b[0m\u001b[0m\n\u001b[0;32m--> 101\u001b[0;31m                 \u001b[0mloss\u001b[0m \u001b[0;34m=\u001b[0m \u001b[0mloss_batch\u001b[0m\u001b[0;34m(\u001b[0m\u001b[0mlearn\u001b[0m\u001b[0;34m.\u001b[0m\u001b[0mmodel\u001b[0m\u001b[0;34m,\u001b[0m \u001b[0mxb\u001b[0m\u001b[0;34m,\u001b[0m \u001b[0myb\u001b[0m\u001b[0;34m,\u001b[0m \u001b[0mlearn\u001b[0m\u001b[0;34m.\u001b[0m\u001b[0mloss_func\u001b[0m\u001b[0;34m,\u001b[0m \u001b[0mlearn\u001b[0m\u001b[0;34m.\u001b[0m\u001b[0mopt\u001b[0m\u001b[0;34m,\u001b[0m \u001b[0mcb_handler\u001b[0m\u001b[0;34m)\u001b[0m\u001b[0;34m\u001b[0m\u001b[0;34m\u001b[0m\u001b[0m\n\u001b[0m\u001b[1;32m    102\u001b[0m                 \u001b[0;32mif\u001b[0m \u001b[0mcb_handler\u001b[0m\u001b[0;34m.\u001b[0m\u001b[0mon_batch_end\u001b[0m\u001b[0;34m(\u001b[0m\u001b[0mloss\u001b[0m\u001b[0;34m)\u001b[0m\u001b[0;34m:\u001b[0m \u001b[0;32mbreak\u001b[0m\u001b[0;34m\u001b[0m\u001b[0;34m\u001b[0m\u001b[0m\n\u001b[1;32m    103\u001b[0m \u001b[0;34m\u001b[0m\u001b[0m\n",
            "\u001b[0;32m/usr/local/lib/python3.6/dist-packages/fastai/basic_train.py\u001b[0m in \u001b[0;36mloss_batch\u001b[0;34m(model, xb, yb, loss_func, opt, cb_handler)\u001b[0m\n\u001b[1;32m     24\u001b[0m     \u001b[0;32mif\u001b[0m \u001b[0;32mnot\u001b[0m \u001b[0mis_listy\u001b[0m\u001b[0;34m(\u001b[0m\u001b[0mxb\u001b[0m\u001b[0;34m)\u001b[0m\u001b[0;34m:\u001b[0m \u001b[0mxb\u001b[0m \u001b[0;34m=\u001b[0m \u001b[0;34m[\u001b[0m\u001b[0mxb\u001b[0m\u001b[0;34m]\u001b[0m\u001b[0;34m\u001b[0m\u001b[0;34m\u001b[0m\u001b[0m\n\u001b[1;32m     25\u001b[0m     \u001b[0;32mif\u001b[0m \u001b[0;32mnot\u001b[0m \u001b[0mis_listy\u001b[0m\u001b[0;34m(\u001b[0m\u001b[0myb\u001b[0m\u001b[0;34m)\u001b[0m\u001b[0;34m:\u001b[0m \u001b[0myb\u001b[0m \u001b[0;34m=\u001b[0m \u001b[0;34m[\u001b[0m\u001b[0myb\u001b[0m\u001b[0;34m]\u001b[0m\u001b[0;34m\u001b[0m\u001b[0;34m\u001b[0m\u001b[0m\n\u001b[0;32m---> 26\u001b[0;31m     \u001b[0mout\u001b[0m \u001b[0;34m=\u001b[0m \u001b[0mmodel\u001b[0m\u001b[0;34m(\u001b[0m\u001b[0;34m*\u001b[0m\u001b[0mxb\u001b[0m\u001b[0;34m)\u001b[0m\u001b[0;34m\u001b[0m\u001b[0;34m\u001b[0m\u001b[0m\n\u001b[0m\u001b[1;32m     27\u001b[0m     \u001b[0mout\u001b[0m \u001b[0;34m=\u001b[0m \u001b[0mcb_handler\u001b[0m\u001b[0;34m.\u001b[0m\u001b[0mon_loss_begin\u001b[0m\u001b[0;34m(\u001b[0m\u001b[0mout\u001b[0m\u001b[0;34m)\u001b[0m\u001b[0;34m\u001b[0m\u001b[0;34m\u001b[0m\u001b[0m\n\u001b[1;32m     28\u001b[0m \u001b[0;34m\u001b[0m\u001b[0m\n",
            "\u001b[0;32m/usr/local/lib/python3.6/dist-packages/torch/nn/modules/module.py\u001b[0m in \u001b[0;36m__call__\u001b[0;34m(self, *input, **kwargs)\u001b[0m\n\u001b[1;32m    491\u001b[0m             \u001b[0mresult\u001b[0m \u001b[0;34m=\u001b[0m \u001b[0mself\u001b[0m\u001b[0;34m.\u001b[0m\u001b[0m_slow_forward\u001b[0m\u001b[0;34m(\u001b[0m\u001b[0;34m*\u001b[0m\u001b[0minput\u001b[0m\u001b[0;34m,\u001b[0m \u001b[0;34m**\u001b[0m\u001b[0mkwargs\u001b[0m\u001b[0;34m)\u001b[0m\u001b[0;34m\u001b[0m\u001b[0;34m\u001b[0m\u001b[0m\n\u001b[1;32m    492\u001b[0m         \u001b[0;32melse\u001b[0m\u001b[0;34m:\u001b[0m\u001b[0;34m\u001b[0m\u001b[0;34m\u001b[0m\u001b[0m\n\u001b[0;32m--> 493\u001b[0;31m             \u001b[0mresult\u001b[0m \u001b[0;34m=\u001b[0m \u001b[0mself\u001b[0m\u001b[0;34m.\u001b[0m\u001b[0mforward\u001b[0m\u001b[0;34m(\u001b[0m\u001b[0;34m*\u001b[0m\u001b[0minput\u001b[0m\u001b[0;34m,\u001b[0m \u001b[0;34m**\u001b[0m\u001b[0mkwargs\u001b[0m\u001b[0;34m)\u001b[0m\u001b[0;34m\u001b[0m\u001b[0;34m\u001b[0m\u001b[0m\n\u001b[0m\u001b[1;32m    494\u001b[0m         \u001b[0;32mfor\u001b[0m \u001b[0mhook\u001b[0m \u001b[0;32min\u001b[0m \u001b[0mself\u001b[0m\u001b[0;34m.\u001b[0m\u001b[0m_forward_hooks\u001b[0m\u001b[0;34m.\u001b[0m\u001b[0mvalues\u001b[0m\u001b[0;34m(\u001b[0m\u001b[0;34m)\u001b[0m\u001b[0;34m:\u001b[0m\u001b[0;34m\u001b[0m\u001b[0;34m\u001b[0m\u001b[0m\n\u001b[1;32m    495\u001b[0m             \u001b[0mhook_result\u001b[0m \u001b[0;34m=\u001b[0m \u001b[0mhook\u001b[0m\u001b[0;34m(\u001b[0m\u001b[0mself\u001b[0m\u001b[0;34m,\u001b[0m \u001b[0minput\u001b[0m\u001b[0;34m,\u001b[0m \u001b[0mresult\u001b[0m\u001b[0;34m)\u001b[0m\u001b[0;34m\u001b[0m\u001b[0;34m\u001b[0m\u001b[0m\n",
            "\u001b[0;32m<ipython-input-28-ae6266d44376>\u001b[0m in \u001b[0;36mforward\u001b[0;34m(self, x)\u001b[0m\n\u001b[1;32m     43\u001b[0m         \u001b[0;32mfor\u001b[0m \u001b[0mi\u001b[0m\u001b[0;34m,\u001b[0m \u001b[0msmooth\u001b[0m \u001b[0;32min\u001b[0m \u001b[0menumerate\u001b[0m\u001b[0;34m(\u001b[0m\u001b[0mself\u001b[0m\u001b[0;34m.\u001b[0m\u001b[0msmoothers\u001b[0m\u001b[0;34m[\u001b[0m\u001b[0;34m:\u001b[0m\u001b[0;36m3\u001b[0m\u001b[0;34m]\u001b[0m\u001b[0;34m)\u001b[0m\u001b[0;34m:\u001b[0m\u001b[0;34m\u001b[0m\u001b[0;34m\u001b[0m\u001b[0m\n\u001b[1;32m     44\u001b[0m             \u001b[0mp_states\u001b[0m\u001b[0;34m[\u001b[0m\u001b[0mi\u001b[0m\u001b[0;34m]\u001b[0m \u001b[0;34m=\u001b[0m \u001b[0msmooth\u001b[0m\u001b[0;34m(\u001b[0m\u001b[0mp_states\u001b[0m\u001b[0;34m[\u001b[0m\u001b[0mi\u001b[0m\u001b[0;34m]\u001b[0m\u001b[0;34m)\u001b[0m\u001b[0;34m\u001b[0m\u001b[0;34m\u001b[0m\u001b[0m\n\u001b[0;32m---> 45\u001b[0;31m         return [self._apply_transpose(self.classifier, p_states, self.n_classes), \n\u001b[0m\u001b[1;32m     46\u001b[0m                 \u001b[0mself\u001b[0m\u001b[0;34m.\u001b[0m\u001b[0m_apply_transpose\u001b[0m\u001b[0;34m(\u001b[0m\u001b[0mself\u001b[0m\u001b[0;34m.\u001b[0m\u001b[0mbox_regressor\u001b[0m\u001b[0;34m,\u001b[0m \u001b[0mp_states\u001b[0m\u001b[0;34m,\u001b[0m \u001b[0;36m4\u001b[0m\u001b[0;34m)\u001b[0m\u001b[0;34m,\u001b[0m\u001b[0;34m\u001b[0m\u001b[0;34m\u001b[0m\u001b[0m\n\u001b[1;32m     47\u001b[0m                 [[p.size(2), p.size(3)] for p in p_states]]\n",
            "\u001b[0;32m<ipython-input-28-ae6266d44376>\u001b[0m in \u001b[0;36m_apply_transpose\u001b[0;34m(self, func, p_states, n_classes)\u001b[0m\n\u001b[1;32m     34\u001b[0m             \u001b[0;32mreturn\u001b[0m \u001b[0;34m[\u001b[0m\u001b[0mfunc\u001b[0m\u001b[0;34m(\u001b[0m\u001b[0mp\u001b[0m\u001b[0;34m)\u001b[0m\u001b[0;34m.\u001b[0m\u001b[0mpermute\u001b[0m\u001b[0;34m(\u001b[0m\u001b[0;36m0\u001b[0m\u001b[0;34m,\u001b[0m\u001b[0;36m2\u001b[0m\u001b[0;34m,\u001b[0m\u001b[0;36m3\u001b[0m\u001b[0;34m,\u001b[0m\u001b[0;36m1\u001b[0m\u001b[0;34m)\u001b[0m\u001b[0;34m.\u001b[0m\u001b[0mview\u001b[0m\u001b[0;34m(\u001b[0m\u001b[0;34m*\u001b[0m\u001b[0msz\u001b[0m\u001b[0;34m,\u001b[0m\u001b[0;34m-\u001b[0m\u001b[0;36m1\u001b[0m\u001b[0;34m,\u001b[0m\u001b[0mn_classes\u001b[0m\u001b[0;34m)\u001b[0m \u001b[0;32mfor\u001b[0m \u001b[0mp\u001b[0m\u001b[0;34m,\u001b[0m\u001b[0msz\u001b[0m \u001b[0;32min\u001b[0m \u001b[0mzip\u001b[0m\u001b[0;34m(\u001b[0m\u001b[0mp_states\u001b[0m\u001b[0;34m,\u001b[0m\u001b[0msizes\u001b[0m\u001b[0;34m)\u001b[0m\u001b[0;34m]\u001b[0m\u001b[0;34m\u001b[0m\u001b[0;34m\u001b[0m\u001b[0m\n\u001b[1;32m     35\u001b[0m         \u001b[0;32melse\u001b[0m\u001b[0;34m:\u001b[0m\u001b[0;34m\u001b[0m\u001b[0;34m\u001b[0m\u001b[0m\n\u001b[0;32m---> 36\u001b[0;31m             \u001b[0;32mreturn\u001b[0m \u001b[0mtorch\u001b[0m\u001b[0;34m.\u001b[0m\u001b[0mcat\u001b[0m\u001b[0;34m(\u001b[0m\u001b[0;34m[\u001b[0m\u001b[0mfunc\u001b[0m\u001b[0;34m(\u001b[0m\u001b[0mp\u001b[0m\u001b[0;34m)\u001b[0m\u001b[0;34m.\u001b[0m\u001b[0mpermute\u001b[0m\u001b[0;34m(\u001b[0m\u001b[0;36m0\u001b[0m\u001b[0;34m,\u001b[0m\u001b[0;36m2\u001b[0m\u001b[0;34m,\u001b[0m\u001b[0;36m3\u001b[0m\u001b[0;34m,\u001b[0m\u001b[0;36m1\u001b[0m\u001b[0;34m)\u001b[0m\u001b[0;34m.\u001b[0m\u001b[0mcontiguous\u001b[0m\u001b[0;34m(\u001b[0m\u001b[0;34m)\u001b[0m\u001b[0;34m.\u001b[0m\u001b[0mview\u001b[0m\u001b[0;34m(\u001b[0m\u001b[0mp\u001b[0m\u001b[0;34m.\u001b[0m\u001b[0msize\u001b[0m\u001b[0;34m(\u001b[0m\u001b[0;36m0\u001b[0m\u001b[0;34m)\u001b[0m\u001b[0;34m,\u001b[0m\u001b[0;34m-\u001b[0m\u001b[0;36m1\u001b[0m\u001b[0;34m,\u001b[0m\u001b[0mn_classes\u001b[0m\u001b[0;34m)\u001b[0m \u001b[0;32mfor\u001b[0m \u001b[0mp\u001b[0m \u001b[0;32min\u001b[0m \u001b[0mp_states\u001b[0m\u001b[0;34m]\u001b[0m\u001b[0;34m,\u001b[0m\u001b[0;36m1\u001b[0m\u001b[0;34m)\u001b[0m\u001b[0;34m\u001b[0m\u001b[0;34m\u001b[0m\u001b[0m\n\u001b[0m\u001b[1;32m     37\u001b[0m \u001b[0;34m\u001b[0m\u001b[0m\n\u001b[1;32m     38\u001b[0m     \u001b[0;32mdef\u001b[0m \u001b[0mforward\u001b[0m\u001b[0;34m(\u001b[0m\u001b[0mself\u001b[0m\u001b[0;34m,\u001b[0m \u001b[0mx\u001b[0m\u001b[0;34m)\u001b[0m\u001b[0;34m:\u001b[0m\u001b[0;34m\u001b[0m\u001b[0;34m\u001b[0m\u001b[0m\n",
            "\u001b[0;32m<ipython-input-28-ae6266d44376>\u001b[0m in \u001b[0;36m<listcomp>\u001b[0;34m(.0)\u001b[0m\n\u001b[1;32m     34\u001b[0m             \u001b[0;32mreturn\u001b[0m \u001b[0;34m[\u001b[0m\u001b[0mfunc\u001b[0m\u001b[0;34m(\u001b[0m\u001b[0mp\u001b[0m\u001b[0;34m)\u001b[0m\u001b[0;34m.\u001b[0m\u001b[0mpermute\u001b[0m\u001b[0;34m(\u001b[0m\u001b[0;36m0\u001b[0m\u001b[0;34m,\u001b[0m\u001b[0;36m2\u001b[0m\u001b[0;34m,\u001b[0m\u001b[0;36m3\u001b[0m\u001b[0;34m,\u001b[0m\u001b[0;36m1\u001b[0m\u001b[0;34m)\u001b[0m\u001b[0;34m.\u001b[0m\u001b[0mview\u001b[0m\u001b[0;34m(\u001b[0m\u001b[0;34m*\u001b[0m\u001b[0msz\u001b[0m\u001b[0;34m,\u001b[0m\u001b[0;34m-\u001b[0m\u001b[0;36m1\u001b[0m\u001b[0;34m,\u001b[0m\u001b[0mn_classes\u001b[0m\u001b[0;34m)\u001b[0m \u001b[0;32mfor\u001b[0m \u001b[0mp\u001b[0m\u001b[0;34m,\u001b[0m\u001b[0msz\u001b[0m \u001b[0;32min\u001b[0m \u001b[0mzip\u001b[0m\u001b[0;34m(\u001b[0m\u001b[0mp_states\u001b[0m\u001b[0;34m,\u001b[0m\u001b[0msizes\u001b[0m\u001b[0;34m)\u001b[0m\u001b[0;34m]\u001b[0m\u001b[0;34m\u001b[0m\u001b[0;34m\u001b[0m\u001b[0m\n\u001b[1;32m     35\u001b[0m         \u001b[0;32melse\u001b[0m\u001b[0;34m:\u001b[0m\u001b[0;34m\u001b[0m\u001b[0;34m\u001b[0m\u001b[0m\n\u001b[0;32m---> 36\u001b[0;31m             \u001b[0;32mreturn\u001b[0m \u001b[0mtorch\u001b[0m\u001b[0;34m.\u001b[0m\u001b[0mcat\u001b[0m\u001b[0;34m(\u001b[0m\u001b[0;34m[\u001b[0m\u001b[0mfunc\u001b[0m\u001b[0;34m(\u001b[0m\u001b[0mp\u001b[0m\u001b[0;34m)\u001b[0m\u001b[0;34m.\u001b[0m\u001b[0mpermute\u001b[0m\u001b[0;34m(\u001b[0m\u001b[0;36m0\u001b[0m\u001b[0;34m,\u001b[0m\u001b[0;36m2\u001b[0m\u001b[0;34m,\u001b[0m\u001b[0;36m3\u001b[0m\u001b[0;34m,\u001b[0m\u001b[0;36m1\u001b[0m\u001b[0;34m)\u001b[0m\u001b[0;34m.\u001b[0m\u001b[0mcontiguous\u001b[0m\u001b[0;34m(\u001b[0m\u001b[0;34m)\u001b[0m\u001b[0;34m.\u001b[0m\u001b[0mview\u001b[0m\u001b[0;34m(\u001b[0m\u001b[0mp\u001b[0m\u001b[0;34m.\u001b[0m\u001b[0msize\u001b[0m\u001b[0;34m(\u001b[0m\u001b[0;36m0\u001b[0m\u001b[0;34m)\u001b[0m\u001b[0;34m,\u001b[0m\u001b[0;34m-\u001b[0m\u001b[0;36m1\u001b[0m\u001b[0;34m,\u001b[0m\u001b[0mn_classes\u001b[0m\u001b[0;34m)\u001b[0m \u001b[0;32mfor\u001b[0m \u001b[0mp\u001b[0m \u001b[0;32min\u001b[0m \u001b[0mp_states\u001b[0m\u001b[0;34m]\u001b[0m\u001b[0;34m,\u001b[0m\u001b[0;36m1\u001b[0m\u001b[0;34m)\u001b[0m\u001b[0;34m\u001b[0m\u001b[0;34m\u001b[0m\u001b[0m\n\u001b[0m\u001b[1;32m     37\u001b[0m \u001b[0;34m\u001b[0m\u001b[0m\n\u001b[1;32m     38\u001b[0m     \u001b[0;32mdef\u001b[0m \u001b[0mforward\u001b[0m\u001b[0;34m(\u001b[0m\u001b[0mself\u001b[0m\u001b[0;34m,\u001b[0m \u001b[0mx\u001b[0m\u001b[0;34m)\u001b[0m\u001b[0;34m:\u001b[0m\u001b[0;34m\u001b[0m\u001b[0;34m\u001b[0m\u001b[0m\n",
            "\u001b[0;32m/usr/local/lib/python3.6/dist-packages/torch/nn/modules/module.py\u001b[0m in \u001b[0;36m__call__\u001b[0;34m(self, *input, **kwargs)\u001b[0m\n\u001b[1;32m    491\u001b[0m             \u001b[0mresult\u001b[0m \u001b[0;34m=\u001b[0m \u001b[0mself\u001b[0m\u001b[0;34m.\u001b[0m\u001b[0m_slow_forward\u001b[0m\u001b[0;34m(\u001b[0m\u001b[0;34m*\u001b[0m\u001b[0minput\u001b[0m\u001b[0;34m,\u001b[0m \u001b[0;34m**\u001b[0m\u001b[0mkwargs\u001b[0m\u001b[0;34m)\u001b[0m\u001b[0;34m\u001b[0m\u001b[0;34m\u001b[0m\u001b[0m\n\u001b[1;32m    492\u001b[0m         \u001b[0;32melse\u001b[0m\u001b[0;34m:\u001b[0m\u001b[0;34m\u001b[0m\u001b[0;34m\u001b[0m\u001b[0m\n\u001b[0;32m--> 493\u001b[0;31m             \u001b[0mresult\u001b[0m \u001b[0;34m=\u001b[0m \u001b[0mself\u001b[0m\u001b[0;34m.\u001b[0m\u001b[0mforward\u001b[0m\u001b[0;34m(\u001b[0m\u001b[0;34m*\u001b[0m\u001b[0minput\u001b[0m\u001b[0;34m,\u001b[0m \u001b[0;34m**\u001b[0m\u001b[0mkwargs\u001b[0m\u001b[0;34m)\u001b[0m\u001b[0;34m\u001b[0m\u001b[0;34m\u001b[0m\u001b[0m\n\u001b[0m\u001b[1;32m    494\u001b[0m         \u001b[0;32mfor\u001b[0m \u001b[0mhook\u001b[0m \u001b[0;32min\u001b[0m \u001b[0mself\u001b[0m\u001b[0;34m.\u001b[0m\u001b[0m_forward_hooks\u001b[0m\u001b[0;34m.\u001b[0m\u001b[0mvalues\u001b[0m\u001b[0;34m(\u001b[0m\u001b[0;34m)\u001b[0m\u001b[0;34m:\u001b[0m\u001b[0;34m\u001b[0m\u001b[0;34m\u001b[0m\u001b[0m\n\u001b[1;32m    495\u001b[0m             \u001b[0mhook_result\u001b[0m \u001b[0;34m=\u001b[0m \u001b[0mhook\u001b[0m\u001b[0;34m(\u001b[0m\u001b[0mself\u001b[0m\u001b[0;34m,\u001b[0m \u001b[0minput\u001b[0m\u001b[0;34m,\u001b[0m \u001b[0mresult\u001b[0m\u001b[0;34m)\u001b[0m\u001b[0;34m\u001b[0m\u001b[0;34m\u001b[0m\u001b[0m\n",
            "\u001b[0;32m/usr/local/lib/python3.6/dist-packages/torch/nn/modules/container.py\u001b[0m in \u001b[0;36mforward\u001b[0;34m(self, input)\u001b[0m\n\u001b[1;32m     90\u001b[0m     \u001b[0;32mdef\u001b[0m \u001b[0mforward\u001b[0m\u001b[0;34m(\u001b[0m\u001b[0mself\u001b[0m\u001b[0;34m,\u001b[0m \u001b[0minput\u001b[0m\u001b[0;34m)\u001b[0m\u001b[0;34m:\u001b[0m\u001b[0;34m\u001b[0m\u001b[0;34m\u001b[0m\u001b[0m\n\u001b[1;32m     91\u001b[0m         \u001b[0;32mfor\u001b[0m \u001b[0mmodule\u001b[0m \u001b[0;32min\u001b[0m \u001b[0mself\u001b[0m\u001b[0;34m.\u001b[0m\u001b[0m_modules\u001b[0m\u001b[0;34m.\u001b[0m\u001b[0mvalues\u001b[0m\u001b[0;34m(\u001b[0m\u001b[0;34m)\u001b[0m\u001b[0;34m:\u001b[0m\u001b[0;34m\u001b[0m\u001b[0;34m\u001b[0m\u001b[0m\n\u001b[0;32m---> 92\u001b[0;31m             \u001b[0minput\u001b[0m \u001b[0;34m=\u001b[0m \u001b[0mmodule\u001b[0m\u001b[0;34m(\u001b[0m\u001b[0minput\u001b[0m\u001b[0;34m)\u001b[0m\u001b[0;34m\u001b[0m\u001b[0;34m\u001b[0m\u001b[0m\n\u001b[0m\u001b[1;32m     93\u001b[0m         \u001b[0;32mreturn\u001b[0m \u001b[0minput\u001b[0m\u001b[0;34m\u001b[0m\u001b[0;34m\u001b[0m\u001b[0m\n\u001b[1;32m     94\u001b[0m \u001b[0;34m\u001b[0m\u001b[0m\n",
            "\u001b[0;32m/usr/local/lib/python3.6/dist-packages/torch/nn/modules/module.py\u001b[0m in \u001b[0;36m__call__\u001b[0;34m(self, *input, **kwargs)\u001b[0m\n\u001b[1;32m    491\u001b[0m             \u001b[0mresult\u001b[0m \u001b[0;34m=\u001b[0m \u001b[0mself\u001b[0m\u001b[0;34m.\u001b[0m\u001b[0m_slow_forward\u001b[0m\u001b[0;34m(\u001b[0m\u001b[0;34m*\u001b[0m\u001b[0minput\u001b[0m\u001b[0;34m,\u001b[0m \u001b[0;34m**\u001b[0m\u001b[0mkwargs\u001b[0m\u001b[0;34m)\u001b[0m\u001b[0;34m\u001b[0m\u001b[0;34m\u001b[0m\u001b[0m\n\u001b[1;32m    492\u001b[0m         \u001b[0;32melse\u001b[0m\u001b[0;34m:\u001b[0m\u001b[0;34m\u001b[0m\u001b[0;34m\u001b[0m\u001b[0m\n\u001b[0;32m--> 493\u001b[0;31m             \u001b[0mresult\u001b[0m \u001b[0;34m=\u001b[0m \u001b[0mself\u001b[0m\u001b[0;34m.\u001b[0m\u001b[0mforward\u001b[0m\u001b[0;34m(\u001b[0m\u001b[0;34m*\u001b[0m\u001b[0minput\u001b[0m\u001b[0;34m,\u001b[0m \u001b[0;34m**\u001b[0m\u001b[0mkwargs\u001b[0m\u001b[0;34m)\u001b[0m\u001b[0;34m\u001b[0m\u001b[0;34m\u001b[0m\u001b[0m\n\u001b[0m\u001b[1;32m    494\u001b[0m         \u001b[0;32mfor\u001b[0m \u001b[0mhook\u001b[0m \u001b[0;32min\u001b[0m \u001b[0mself\u001b[0m\u001b[0;34m.\u001b[0m\u001b[0m_forward_hooks\u001b[0m\u001b[0;34m.\u001b[0m\u001b[0mvalues\u001b[0m\u001b[0;34m(\u001b[0m\u001b[0;34m)\u001b[0m\u001b[0;34m:\u001b[0m\u001b[0;34m\u001b[0m\u001b[0;34m\u001b[0m\u001b[0m\n\u001b[1;32m    495\u001b[0m             \u001b[0mhook_result\u001b[0m \u001b[0;34m=\u001b[0m \u001b[0mhook\u001b[0m\u001b[0;34m(\u001b[0m\u001b[0mself\u001b[0m\u001b[0;34m,\u001b[0m \u001b[0minput\u001b[0m\u001b[0;34m,\u001b[0m \u001b[0mresult\u001b[0m\u001b[0;34m)\u001b[0m\u001b[0;34m\u001b[0m\u001b[0;34m\u001b[0m\u001b[0m\n",
            "\u001b[0;32m/usr/local/lib/python3.6/dist-packages/torch/nn/modules/conv.py\u001b[0m in \u001b[0;36mforward\u001b[0;34m(self, input)\u001b[0m\n\u001b[1;32m    336\u001b[0m                             _pair(0), self.dilation, self.groups)\n\u001b[1;32m    337\u001b[0m         return F.conv2d(input, self.weight, self.bias, self.stride,\n\u001b[0;32m--> 338\u001b[0;31m                         self.padding, self.dilation, self.groups)\n\u001b[0m\u001b[1;32m    339\u001b[0m \u001b[0;34m\u001b[0m\u001b[0m\n\u001b[1;32m    340\u001b[0m \u001b[0;34m\u001b[0m\u001b[0m\n",
            "\u001b[0;31mRuntimeError\u001b[0m: CUDA out of memory. Tried to allocate 8.83 GiB (GPU 0; 11.17 GiB total capacity; 4.81 GiB already allocated; 5.35 GiB free; 700.01 MiB cached)"
          ]
        }
      ]
    },
    {
      "cell_type": "code",
      "metadata": {
        "id": "ynvTmj4aqyx4",
        "colab_type": "code",
        "colab": {
          "base_uri": "https://localhost:8080/",
          "height": 283
        },
        "outputId": "8ed7c8f8-79a2-410f-e680-3a06790bd390"
      },
      "source": [
        "learn.recorder.plot(skip_end=5)"
      ],
      "execution_count": 66,
      "outputs": [
        {
          "output_type": "display_data",
          "data": {
            "image/png": "[encoded data removed]",
            "text/plain": [
              "<Figure size 432x288 with 1 Axes>"
            ]
          },
          "metadata": {
            "tags": []
          }
        }
      ]
    },
    {
      "cell_type": "code",
      "metadata": {
        "id": "_MyXQdZOqyx6",
        "colab_type": "code",
        "colab": {}
      },
      "source": [
        "learn.fit_one_cycle(5, 1e-4)"
      ],
      "execution_count": 0,
      "outputs": []
    },
    {
      "cell_type": "code",
      "metadata": {
        "id": "IDnKjG3pqyx8",
        "colab_type": "code",
        "colab": {}
      },
      "source": [
        "learn.save('stage1-128')"
      ],
      "execution_count": 0,
      "outputs": []
    },
    {
      "cell_type": "code",
      "metadata": {
        "id": "oNXgQQ9Pqyx-",
        "colab_type": "code",
        "colab": {}
      },
      "source": [
        "learn.unfreeze()"
      ],
      "execution_count": 0,
      "outputs": []
    },
    {
      "cell_type": "code",
      "metadata": {
        "id": "be4EJvLEqyyA",
        "colab_type": "code",
        "colab": {}
      },
      "source": [
        "learn.fit_one_cycle(10, slice(1e-6, 5e-5))"
      ],
      "execution_count": 0,
      "outputs": []
    },
    {
      "cell_type": "code",
      "metadata": {
        "id": "GNE_eEN-qyyB",
        "colab_type": "code",
        "colab": {}
      },
      "source": [
        "learn.save('stage2-128')"
      ],
      "execution_count": 0,
      "outputs": []
    },
    {
      "cell_type": "code",
      "metadata": {
        "id": "OP1bonzSqyyD",
        "colab_type": "code",
        "colab": {}
      },
      "source": [
        "learn.data = get_data(32,192)"
      ],
      "execution_count": 0,
      "outputs": []
    },
    {
      "cell_type": "code",
      "metadata": {
        "id": "GG_6UgpvqyyF",
        "colab_type": "code",
        "colab": {}
      },
      "source": [
        "learn.freeze()\n",
        "learn.lr_find()"
      ],
      "execution_count": 0,
      "outputs": []
    },
    {
      "cell_type": "code",
      "metadata": {
        "id": "Yg1hjySBqyyI",
        "colab_type": "code",
        "colab": {}
      },
      "source": [
        "learn.recorder.plot()"
      ],
      "execution_count": 0,
      "outputs": []
    },
    {
      "cell_type": "code",
      "metadata": {
        "id": "Ilr1-4yhqyyJ",
        "colab_type": "code",
        "colab": {}
      },
      "source": [
        "learn.fit_one_cycle(5, 1e-4)"
      ],
      "execution_count": 0,
      "outputs": []
    },
    {
      "cell_type": "code",
      "metadata": {
        "id": "6hKYRJbTqyyL",
        "colab_type": "code",
        "colab": {}
      },
      "source": [
        "learn.save('stage1-192')"
      ],
      "execution_count": 0,
      "outputs": []
    },
    {
      "cell_type": "code",
      "metadata": {
        "id": "oQBuWPDnqyyP",
        "colab_type": "code",
        "colab": {}
      },
      "source": [
        "learn.unfreeze()"
      ],
      "execution_count": 0,
      "outputs": []
    },
    {
      "cell_type": "code",
      "metadata": {
        "id": "mKuTW89DqyyR",
        "colab_type": "code",
        "colab": {}
      },
      "source": [
        "learn.fit_one_cycle(10, slice(1e-6, 5e-5))"
      ],
      "execution_count": 0,
      "outputs": []
    },
    {
      "cell_type": "code",
      "metadata": {
        "id": "eJA5IerNqyyS",
        "colab_type": "code",
        "colab": {}
      },
      "source": [
        "learn.save('stage2-192')"
      ],
      "execution_count": 0,
      "outputs": []
    },
    {
      "cell_type": "code",
      "metadata": {
        "id": "Fgx2_N54qyyT",
        "colab_type": "code",
        "colab": {}
      },
      "source": [
        "learn.data = get_data(24,256)"
      ],
      "execution_count": 0,
      "outputs": []
    },
    {
      "cell_type": "code",
      "metadata": {
        "id": "cRbehwMhqyyV",
        "colab_type": "code",
        "colab": {}
      },
      "source": [
        "learn.freeze()\n",
        "learn.fit_one_cycle(5, 1e-4)"
      ],
      "execution_count": 0,
      "outputs": []
    },
    {
      "cell_type": "code",
      "metadata": {
        "id": "6EGWBpD7qyyX",
        "colab_type": "code",
        "colab": {}
      },
      "source": [
        "learn.save('stage1-256')"
      ],
      "execution_count": 0,
      "outputs": []
    },
    {
      "cell_type": "code",
      "metadata": {
        "id": "i5UM97Z8qyyY",
        "colab_type": "code",
        "colab": {}
      },
      "source": [
        "learn.unfreeze()\n",
        "learn.fit_one_cycle(10, slice(1e-6, 5e-5))"
      ],
      "execution_count": 0,
      "outputs": []
    },
    {
      "cell_type": "code",
      "metadata": {
        "id": "puZEFdXWqyya",
        "colab_type": "code",
        "colab": {}
      },
      "source": [
        "learn.save('stage2-256')"
      ],
      "execution_count": 0,
      "outputs": []
    },
    {
      "cell_type": "markdown",
      "metadata": {
        "id": "W130SYV4qyyb",
        "colab_type": "text"
      },
      "source": [
        "## Results"
      ]
    },
    {
      "cell_type": "code",
      "metadata": {
        "id": "lH6TaRE3qyyc",
        "colab_type": "code",
        "colab": {}
      },
      "source": [
        "learn = learn.load('stage2-256')"
      ],
      "execution_count": 0,
      "outputs": []
    },
    {
      "cell_type": "code",
      "metadata": {
        "id": "sLsW89Btqyyf",
        "colab_type": "code",
        "colab": {}
      },
      "source": [
        "img,target = next(iter(data.valid_dl))\n",
        "with torch.no_grad():\n",
        "    output = learn.model(img)"
      ],
      "execution_count": 0,
      "outputs": []
    },
    {
      "cell_type": "markdown",
      "metadata": {
        "id": "sQ57GLpwqyym",
        "colab_type": "text"
      },
      "source": [
        "First we need to remove the padding that was added to collate our targets together."
      ]
    },
    {
      "cell_type": "code",
      "metadata": {
        "id": "GnOprpORqyym",
        "colab_type": "code",
        "colab": {}
      },
      "source": [
        "def unpad(tgt_bbox, tgt_clas, pad_idx=0):\n",
        "    i = torch.min(torch.nonzero(tgt_clas-pad_idx))\n",
        "    return tlbr2cthw(tgt_bbox[i:]), tgt_clas[i:]-1+pad_idx"
      ],
      "execution_count": 0,
      "outputs": []
    },
    {
      "cell_type": "markdown",
      "metadata": {
        "id": "XKYxz1Ygqyyq",
        "colab_type": "text"
      },
      "source": [
        "Then we process the outputs of the model: we convert the activations of the regressor to bounding boxes and the predictions to probabilities, only keeping those above a given threshold."
      ]
    },
    {
      "cell_type": "code",
      "metadata": {
        "id": "U3oxoqVCqyyr",
        "colab_type": "code",
        "colab": {}
      },
      "source": [
        "def process_output(output, i, detect_thresh=0.25):\n",
        "    \"Process `output[i]` and return the predicted bboxes above `detect_thresh`.\"\n",
        "    clas_pred,bbox_pred,sizes = output[0][i], output[1][i], output[2]\n",
        "    anchors = create_anchors(sizes, ratios, scales).to(clas_pred.device)\n",
        "    bbox_pred = activ_to_bbox(bbox_pred, anchors)\n",
        "    clas_pred = torch.sigmoid(clas_pred)\n",
        "    detect_mask = clas_pred.max(1)[0] > detect_thresh\n",
        "    bbox_pred, clas_pred = bbox_pred[detect_mask], clas_pred[detect_mask]\n",
        "    bbox_pred = tlbr2cthw(torch.clamp(cthw2tlbr(bbox_pred), min=-1, max=1))    \n",
        "    scores, preds = clas_pred.max(1)\n",
        "    return bbox_pred, scores, preds"
      ],
      "execution_count": 0,
      "outputs": []
    },
    {
      "cell_type": "markdown",
      "metadata": {
        "id": "GhFI-JGrqyyv",
        "colab_type": "text"
      },
      "source": [
        "Helper functions to plot the results"
      ]
    },
    {
      "cell_type": "code",
      "metadata": {
        "id": "Vg-tSgSkqyyv",
        "colab_type": "code",
        "colab": {}
      },
      "source": [
        "def _draw_outline(o:Patch, lw:int):\n",
        "    \"Outline bounding box onto image `Patch`.\"\n",
        "    o.set_path_effects([patheffects.Stroke(\n",
        "        linewidth=lw, foreground='black'), patheffects.Normal()])\n",
        "\n",
        "def draw_rect(ax:plt.Axes, b:Collection[int], color:str='white', text=None, text_size=14):\n",
        "    \"Draw bounding box on `ax`.\"\n",
        "    patch = ax.add_patch(patches.Rectangle(b[:2], *b[-2:], fill=False, edgecolor=color, lw=2))\n",
        "    _draw_outline(patch, 4)\n",
        "    if text is not None:\n",
        "        patch = ax.text(*b[:2], text, verticalalignment='top', color=color, fontsize=text_size, weight='bold')\n",
        "        _draw_outline(patch,1)"
      ],
      "execution_count": 0,
      "outputs": []
    },
    {
      "cell_type": "code",
      "metadata": {
        "id": "gB9Wae9Qqyyy",
        "colab_type": "code",
        "colab": {}
      },
      "source": [
        "def show_preds(img, output, idx, detect_thresh=0.25, classes=None):\n",
        "    bbox_pred, scores, preds = process_output(output, idx, detect_thresh)\n",
        "    bbox_pred, preds, scores = bbox_pred.cpu(), preds.cpu(), scores.cpu()\n",
        "    t_sz = torch.Tensor([*img.size])[None].float()\n",
        "    bbox_pred[:,:2] = bbox_pred[:,:2] - bbox_pred[:,2:]/2\n",
        "    bbox_pred[:,:2] = (bbox_pred[:,:2] + 1) * t_sz/2\n",
        "    bbox_pred[:,2:] = bbox_pred[:,2:] * t_sz\n",
        "    bbox_pred = bbox_pred.long()\n",
        "    _, ax = plt.subplots(1,1)\n",
        "    for bbox, c, scr in zip(bbox_pred, preds, scores):\n",
        "        img.show(ax=ax)\n",
        "        txt = str(c.item()) if classes is None else classes[c.item()+1]\n",
        "        draw_rect(ax, [bbox[1],bbox[0],bbox[3],bbox[2]], text=f'{txt} {scr:.2f}')"
      ],
      "execution_count": 0,
      "outputs": []
    },
    {
      "cell_type": "markdown",
      "metadata": {
        "id": "e0Htnf0Jqyy1",
        "colab_type": "text"
      },
      "source": [
        "And let's have a look at one picture."
      ]
    },
    {
      "cell_type": "code",
      "metadata": {
        "id": "PBP4N9FIqyy1",
        "colab_type": "code",
        "colab": {}
      },
      "source": [
        "idx = 0\n",
        "img = data.valid_ds[idx][0]\n",
        "show_preds(img, output, idx, detect_thresh=0.3, classes=data.classes)"
      ],
      "execution_count": 0,
      "outputs": []
    },
    {
      "cell_type": "markdown",
      "metadata": {
        "id": "febGi6sxqyy4",
        "colab_type": "text"
      },
      "source": [
        "It looks like a lot of our anchors are detecting kind of the same object. We use an algorithm called Non-Maximum Suppression to remove near-duplicates: going from the biggest score predicted to the lowest, we take the corresponding bounding boxes and remove all the bounding boxes down the list that have an IoU > 0.5 with this one. We continue the process until we have reached the end of the list."
      ]
    },
    {
      "cell_type": "code",
      "metadata": {
        "id": "50gR4S-2qyy7",
        "colab_type": "code",
        "colab": {}
      },
      "source": [
        "def nms(boxes, scores, thresh=0.3):\n",
        "    idx_sort = scores.argsort(descending=True)\n",
        "    boxes, scores = boxes[idx_sort], scores[idx_sort]\n",
        "    to_keep, indexes = [], torch.LongTensor(range_of(scores))\n",
        "    while len(scores) > 0:\n",
        "        to_keep.append(idx_sort[indexes[0]])\n",
        "        iou_vals = IoU_values(boxes, boxes[:1]).squeeze()\n",
        "        mask_keep = iou_vals < thresh\n",
        "        if len(mask_keep.nonzero()) == 0: break\n",
        "        boxes, scores, indexes = boxes[mask_keep], scores[mask_keep], indexes[mask_keep]\n",
        "    return LongTensor(to_keep)"
      ],
      "execution_count": 0,
      "outputs": []
    },
    {
      "cell_type": "code",
      "metadata": {
        "id": "yMqkCnxVqyy9",
        "colab_type": "code",
        "colab": {}
      },
      "source": [
        "def process_output(output, i, detect_thresh=0.25):\n",
        "    clas_pred,bbox_pred,sizes = output[0][i], output[1][i], output[2]\n",
        "    anchors = create_anchors(sizes, ratios, scales).to(clas_pred.device)\n",
        "    bbox_pred = activ_to_bbox(bbox_pred, anchors)\n",
        "    clas_pred = torch.sigmoid(clas_pred)\n",
        "    detect_mask = clas_pred.max(1)[0] > detect_thresh\n",
        "    bbox_pred, clas_pred = bbox_pred[detect_mask], clas_pred[detect_mask]\n",
        "    bbox_pred = tlbr2cthw(torch.clamp(cthw2tlbr(bbox_pred), min=-1, max=1))    \n",
        "    if clas_pred.numel() == 0: return [],[],[]\n",
        "    scores, preds = clas_pred.max(1)\n",
        "    return bbox_pred, scores, preds"
      ],
      "execution_count": 0,
      "outputs": []
    },
    {
      "cell_type": "code",
      "metadata": {
        "id": "tp-8vNRzqyzE",
        "colab_type": "code",
        "colab": {}
      },
      "source": [
        "def show_preds(img, output, idx, detect_thresh=0.25, classes=None, ax=None):\n",
        "    bbox_pred, scores, preds = process_output(output, idx, detect_thresh)\n",
        "    if len(scores) != 0:\n",
        "        to_keep = nms(bbox_pred, scores)\n",
        "        bbox_pred, preds, scores = bbox_pred[to_keep].cpu(), preds[to_keep].cpu(), scores[to_keep].cpu()\n",
        "        t_sz = torch.Tensor([*img.size])[None].float()\n",
        "        bbox_pred[:,:2] = bbox_pred[:,:2] - bbox_pred[:,2:]/2\n",
        "        bbox_pred[:,:2] = (bbox_pred[:,:2] + 1) * t_sz/2\n",
        "        bbox_pred[:,2:] = bbox_pred[:,2:] * t_sz\n",
        "        bbox_pred = bbox_pred.long()\n",
        "    if ax is None: _, ax = plt.subplots(1,1)\n",
        "    img.show(ax=ax)\n",
        "    for bbox, c, scr in zip(bbox_pred, preds, scores):\n",
        "        txt = str(c.item()) if classes is None else classes[c.item()+1]\n",
        "        draw_rect(ax, [bbox[1],bbox[0],bbox[3],bbox[2]], text=f'{txt} {scr:.2f}')"
      ],
      "execution_count": 0,
      "outputs": []
    },
    {
      "cell_type": "code",
      "metadata": {
        "id": "A8RWI047qyzH",
        "colab_type": "code",
        "colab": {}
      },
      "source": [
        "def show_results(learn, start=0, n=5, detect_thresh=0.35, figsize=(10,25)):\n",
        "    x,y = learn.data.one_batch(DatasetType.Valid, cpu=False)\n",
        "    with torch.no_grad():\n",
        "        z = learn.model.eval()(x)\n",
        "    _,axs = plt.subplots(n, 2, figsize=figsize)\n",
        "    for i in range(n):\n",
        "        img,bbox = learn.data.valid_ds[start+i]\n",
        "        img.show(ax=axs[i,0], y=bbox)\n",
        "        show_preds(img, z, start+i, detect_thresh=detect_thresh, classes=learn.data.classes, ax=axs[i,1])"
      ],
      "execution_count": 0,
      "outputs": []
    },
    {
      "cell_type": "code",
      "metadata": {
        "id": "6Upqu5_NqyzJ",
        "colab_type": "code",
        "colab": {}
      },
      "source": [
        "learn = learn.load('stage2-256')"
      ],
      "execution_count": 0,
      "outputs": []
    },
    {
      "cell_type": "code",
      "metadata": {
        "id": "INzDGjTDqyzL",
        "colab_type": "code",
        "colab": {}
      },
      "source": [
        "show_results(learn, start=10)"
      ],
      "execution_count": 0,
      "outputs": []
    },
    {
      "cell_type": "markdown",
      "metadata": {
        "id": "edkGa-BWqyzN",
        "colab_type": "text"
      },
      "source": [
        "## mAP"
      ]
    },
    {
      "cell_type": "markdown",
      "metadata": {
        "id": "xlaPXjtoqyzO",
        "colab_type": "text"
      },
      "source": [
        "A metric often used for this kind of task is the mean Average Precision (our mAP). It relies on computing the cumulated precision and recall for each class, then tries to compute the area under the precision/recall curve we can draw."
      ]
    },
    {
      "cell_type": "code",
      "metadata": {
        "id": "tYYnHTzqqyzP",
        "colab_type": "code",
        "colab": {}
      },
      "source": [
        "def get_predictions(output, idx, detect_thresh=0.05):\n",
        "    bbox_pred, scores, preds = process_output(output, idx, detect_thresh)\n",
        "    if len(scores) == 0: return [],[],[]\n",
        "    to_keep = nms(bbox_pred, scores)\n",
        "    return bbox_pred[to_keep], preds[to_keep], scores[to_keep]"
      ],
      "execution_count": 0,
      "outputs": []
    },
    {
      "cell_type": "code",
      "metadata": {
        "id": "elgB0DJDqyzQ",
        "colab_type": "code",
        "colab": {}
      },
      "source": [
        "def compute_ap(precision, recall):\n",
        "    \"Compute the average precision for `precision` and `recall` curve.\"\n",
        "    recall = np.concatenate(([0.], list(recall), [1.]))\n",
        "    precision = np.concatenate(([0.], list(precision), [0.]))\n",
        "    for i in range(len(precision) - 1, 0, -1):\n",
        "        precision[i - 1] = np.maximum(precision[i - 1], precision[i])\n",
        "    idx = np.where(recall[1:] != recall[:-1])[0]\n",
        "    ap = np.sum((recall[idx + 1] - recall[idx]) * precision[idx + 1])\n",
        "    return ap"
      ],
      "execution_count": 0,
      "outputs": []
    },
    {
      "cell_type": "code",
      "metadata": {
        "id": "CtofJjVLqyzR",
        "colab_type": "code",
        "colab": {}
      },
      "source": [
        "def compute_class_AP(model, dl, n_classes, iou_thresh=0.5, detect_thresh=0.35, num_keep=100):\n",
        "    tps, clas, p_scores = [], [], []\n",
        "    classes, n_gts = LongTensor(range(n_classes)),torch.zeros(n_classes).long()\n",
        "    with torch.no_grad():\n",
        "        for input,target in progress_bar(dl):\n",
        "            output = model(input)\n",
        "            for i in range(target[0].size(0)):\n",
        "                bbox_pred, preds, scores = get_predictions(output, i, detect_thresh)\n",
        "                tgt_bbox, tgt_clas = unpad(target[0][i], target[1][i])\n",
        "                if len(bbox_pred) != 0 and len(tgt_bbox) != 0:\n",
        "                    ious = IoU_values(bbox_pred, tgt_bbox)\n",
        "                    max_iou, matches = ious.max(1)\n",
        "                    detected = []\n",
        "                    for i in range_of(preds):\n",
        "                        if max_iou[i] >= iou_thresh and matches[i] not in detected and tgt_clas[matches[i]] == preds[i]:\n",
        "                            detected.append(matches[i])\n",
        "                            tps.append(1)\n",
        "                        else: tps.append(0)\n",
        "                    clas.append(preds.cpu())\n",
        "                    p_scores.append(scores.cpu())\n",
        "                n_gts += (tgt_clas.cpu()[:,None] == classes[None,:]).sum(0)\n",
        "    tps, p_scores, clas = torch.tensor(tps), torch.cat(p_scores,0), torch.cat(clas,0)\n",
        "    fps = 1-tps\n",
        "    idx = p_scores.argsort(descending=True)\n",
        "    tps, fps, clas = tps[idx], fps[idx], clas[idx]\n",
        "    aps = []\n",
        "    #return tps, clas\n",
        "    for cls in range(n_classes):\n",
        "        tps_cls, fps_cls = tps[clas==cls].float().cumsum(0), fps[clas==cls].float().cumsum(0)\n",
        "        if tps_cls.numel() != 0 and tps_cls[-1] != 0:\n",
        "            precision = tps_cls / (tps_cls + fps_cls + 1e-8)\n",
        "            recall = tps_cls / (n_gts[cls] + 1e-8)\n",
        "            aps.append(compute_ap(precision, recall))\n",
        "        else: aps.append(0.)\n",
        "    return aps"
      ],
      "execution_count": 0,
      "outputs": []
    },
    {
      "cell_type": "code",
      "metadata": {
        "id": "yNLNxGpbqyzS",
        "colab_type": "code",
        "colab": {}
      },
      "source": [
        "L = compute_class_AP(learn.model, data.valid_dl, data.c-1)"
      ],
      "execution_count": 0,
      "outputs": []
    },
    {
      "cell_type": "code",
      "metadata": {
        "id": "45Ex1j8lqyzV",
        "colab_type": "code",
        "colab": {}
      },
      "source": [
        "for ap,cl in zip(L, data.classes[1:]): print(f'{cl}: {ap:.6f}')"
      ],
      "execution_count": 0,
      "outputs": []
    },
    {
      "cell_type": "code",
      "metadata": {
        "id": "FkKzMb_jqyzW",
        "colab_type": "code",
        "colab": {}
      },
      "source": [
        "for ap,cl in zip(L, data.classes[1:]): print(f'{cl}: {ap:.6f}')"
      ],
      "execution_count": 0,
      "outputs": []
    },
    {
      "cell_type": "code",
      "metadata": {
        "id": "QSnwhwrzqyzX",
        "colab_type": "code",
        "colab": {}
      },
      "source": [
        "for ap,cl in zip(L, data.classes[1:]): print(f'{cl}: {ap:.6f}')"
      ],
      "execution_count": 0,
      "outputs": []
    },
    {
      "cell_type": "code",
      "metadata": {
        "id": "Axmw-GQ9qyzY",
        "colab_type": "code",
        "colab": {}
      },
      "source": [
        "for ap,cl in zip(L, data.classes[1:]): print(f'{cl}: {ap:.6f}')"
      ],
      "execution_count": 0,
      "outputs": []
    },
    {
      "cell_type": "code",
      "metadata": {
        "id": "6BTpBVhEqyza",
        "colab_type": "code",
        "colab": {}
      },
      "source": [
        "for ap,cl in zip(L, data.classes[1:]): print(f'{cl}: {ap:.6f}')"
      ],
      "execution_count": 0,
      "outputs": []
    },
    {
      "cell_type": "code",
      "metadata": {
        "id": "G-AG929sqyzb",
        "colab_type": "code",
        "colab": {}
      },
      "source": [
        ""
      ],
      "execution_count": 0,
      "outputs": []
    }
  ]
}